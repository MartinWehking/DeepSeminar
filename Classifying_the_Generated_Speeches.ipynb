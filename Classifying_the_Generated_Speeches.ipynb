{
  "nbformat": 4,
  "nbformat_minor": 0,
  "metadata": {
    "colab": {
      "name": "Classifying the Generated Speeches",
      "provenance": [],
      "collapsed_sections": [],
      "machine_shape": "hm"
    },
    "kernelspec": {
      "name": "python3",
      "display_name": "Python 3"
    },
    "accelerator": "GPU"
  },
  "cells": [
    {
      "cell_type": "markdown",
      "metadata": {
        "id": "4hJbaoAySNit",
        "colab_type": "text"
      },
      "source": [
        "# **A multi-class classification network for classifying the generated text**"
      ]
    },
    {
      "cell_type": "markdown",
      "metadata": {
        "id": "XoGyAcL1to1M",
        "colab_type": "text"
      },
      "source": [
        "We test the quality of the text generated with our text generation model through a multi-classification model. "
      ]
    },
    {
      "cell_type": "markdown",
      "metadata": {
        "id": "V668uOX3z6vH",
        "colab_type": "text"
      },
      "source": [
        "# Hyper-parameters"
      ]
    },
    {
      "cell_type": "code",
      "metadata": {
        "id": "A4Ob0Gx28RBr",
        "colab_type": "code",
        "colab": {}
      },
      "source": [
        "vocab_size = 5000\n",
        "embedding_dim = 50\n",
        "max_length = 200\n",
        "trunc_type = 'post'\n",
        "padding_type = 'post'\n",
        "oov_tok = '<OOV>'\n",
        "\n",
        "num_epochs = 5"
      ],
      "execution_count": 0,
      "outputs": []
    },
    {
      "cell_type": "markdown",
      "metadata": {
        "id": "O3J59gENkimK",
        "colab_type": "text"
      },
      "source": [
        "# Import the libraries"
      ]
    },
    {
      "cell_type": "code",
      "metadata": {
        "colab_type": "code",
        "id": "sXnDmXR7RDr2",
        "outputId": "8d752fd5-f2d5-4859-a7e7-15f60b37b6e4",
        "colab": {
          "base_uri": "https://localhost:8080/",
          "height": 54
        }
      },
      "source": [
        "%tensorflow_version 2.x\n",
        "import tensorflow as tf\n",
        "device_name = tf.test.gpu_device_name()\n",
        "if device_name != '/device:GPU:0':\n",
        " raise SystemError('GPU device not found')\n",
        "print('Found GPU at: {}'.format(device_name))"
      ],
      "execution_count": 0,
      "outputs": [
        {
          "output_type": "stream",
          "text": [
            "TensorFlow 2.x selected.\n",
            "Found GPU at: /device:GPU:0\n"
          ],
          "name": "stdout"
        }
      ]
    },
    {
      "cell_type": "code",
      "metadata": {
        "id": "7m-VXZYQqtsl",
        "colab_type": "code",
        "outputId": "cb30716a-570e-450c-8994-e3416bac29b6",
        "colab": {
          "base_uri": "https://localhost:8080/",
          "height": 54
        }
      },
      "source": [
        "from tensorflow.keras.preprocessing.sequence import pad_sequences\n",
        "from tensorflow.keras.preprocessing.text import Tokenizer\n",
        "from tensorflow.keras.layers import Dense, Input, Flatten, LSTM, Embedding, Dropout, Activation, BatchNormalization\n",
        "from tensorflow.keras.layers import Bidirectional, MaxPooling1D, GlobalMaxPool1D, Conv1D\n",
        "from tensorflow.keras.models import Model, Sequential\n",
        "from tensorflow.compat.v1.keras.layers import CuDNNLSTM\n",
        "from tensorflow.keras import layers\n",
        "from tensorflow.keras import regularizers\n",
        "%matplotlib inline\n",
        "import matplotlib.pyplot as plt\n",
        "import pandas as pd\n",
        "import numpy as np\n",
        "import string\n",
        "\n",
        "from sklearn.manifold import TSNE\n",
        "import re\n",
        "import nltk\n",
        "from nltk.corpus import stopwords\n",
        "nltk.download('stopwords')\n",
        "from nltk.stem.snowball import SnowballStemmer"
      ],
      "execution_count": 0,
      "outputs": [
        {
          "output_type": "stream",
          "text": [
            "[nltk_data] Downloading package stopwords to /root/nltk_data...\n",
            "[nltk_data]   Unzipping corpora/stopwords.zip.\n"
          ],
          "name": "stdout"
        }
      ]
    },
    {
      "cell_type": "markdown",
      "metadata": {
        "id": "9Zj0PkNAmd4O",
        "colab_type": "text"
      },
      "source": [
        "# Version check"
      ]
    },
    {
      "cell_type": "code",
      "metadata": {
        "id": "IniybE2KrQBK",
        "colab_type": "code",
        "outputId": "fff2b432-07d4-4718-d8f8-4dd88618cf67",
        "colab": {
          "base_uri": "https://localhost:8080/",
          "height": 54
        }
      },
      "source": [
        "print('Tensorflow version:', tf.__version__)\n",
        "print(\"Is eagerly mode activated:\", tf.executing_eagerly())"
      ],
      "execution_count": 0,
      "outputs": [
        {
          "output_type": "stream",
          "text": [
            "Tensorflow version: 2.1.0\n",
            "Is eagerly mode activated: True\n"
          ],
          "name": "stdout"
        }
      ]
    },
    {
      "cell_type": "markdown",
      "metadata": {
        "id": "AYOUAVH-kvHI",
        "colab_type": "text"
      },
      "source": [
        "# Read the dataset"
      ]
    },
    {
      "cell_type": "code",
      "metadata": {
        "id": "a9X0Y72As8on",
        "colab_type": "code",
        "colab": {}
      },
      "source": [
        "# Code to read csv file into Colaboratory:!pip install -U -q PyDrive\n",
        "from pydrive.auth import GoogleAuth\n",
        "from pydrive.drive import GoogleDrive\n",
        "from google.colab import auth\n",
        "from oauth2client.client import GoogleCredentials# Authenticate and create the PyDrive client.\n",
        "auth.authenticate_user()\n",
        "gauth = GoogleAuth()\n",
        "gauth.credentials = GoogleCredentials.get_application_default()\n",
        "drive = GoogleDrive(gauth)"
      ],
      "execution_count": 0,
      "outputs": []
    },
    {
      "cell_type": "code",
      "metadata": {
        "id": "R0sKmY-T6fbh",
        "colab_type": "code",
        "colab": {}
      },
      "source": [
        "link = 'https://drive.google.com/open?id=1EChD2ifPR0HCFRsEeTxOjxU4V6mMtflf'"
      ],
      "execution_count": 0,
      "outputs": []
    },
    {
      "cell_type": "code",
      "metadata": {
        "id": "mEMMcVx87IZ-",
        "colab_type": "code",
        "outputId": "8d5e5e06-d257-4f76-bb94-e24513c4ae72",
        "colab": {
          "base_uri": "https://localhost:8080/",
          "height": 35
        }
      },
      "source": [
        "fluff, id = link.split('=')\n",
        "print (id) # Verify that you have everything after '='"
      ],
      "execution_count": 0,
      "outputs": [
        {
          "output_type": "stream",
          "text": [
            "1EChD2ifPR0HCFRsEeTxOjxU4V6mMtflf\n"
          ],
          "name": "stdout"
        }
      ]
    },
    {
      "cell_type": "code",
      "metadata": {
        "id": "5nEPv5FX7Sb6",
        "colab_type": "code",
        "colab": {}
      },
      "source": [
        "downloaded = drive.CreateFile({'id':id})"
      ],
      "execution_count": 0,
      "outputs": []
    },
    {
      "cell_type": "code",
      "metadata": {
        "id": "5lM-zE4T7MdV",
        "colab_type": "code",
        "outputId": "bdcab136-6521-4cd4-f4b0-370c1a86c3aa",
        "colab": {
          "base_uri": "https://localhost:8080/",
          "height": 54
        }
      },
      "source": [
        "%%time\n",
        "downloaded.GetContentFile('hansard-1979-2018-v261.csv')  \n",
        "#hansard = pd.read_csv('hansard-1979-2018-v261.csv')# Dataset is now stored in a Pandas Dataframe"
      ],
      "execution_count": 0,
      "outputs": [
        {
          "output_type": "stream",
          "text": [
            "CPU times: user 3.36 s, sys: 11.5 s, total: 14.8 s\n",
            "Wall time: 1min 23s\n"
          ],
          "name": "stdout"
        }
      ]
    },
    {
      "cell_type": "code",
      "metadata": {
        "id": "B8fvPhFrfAND",
        "colab_type": "code",
        "colab": {}
      },
      "source": [
        "columns = ['speech', 'year', 'party_group']\n",
        "traintypes = {\n",
        "'speech':'object',\n",
        "'year':'int32',\n",
        "'party_group':'object'}"
      ],
      "execution_count": 0,
      "outputs": []
    },
    {
      "cell_type": "code",
      "metadata": {
        "id": "tYxg606De0uM",
        "colab_type": "code",
        "outputId": "9c029949-0f6a-4cec-8170-fe99a9db64f1",
        "colab": {
          "base_uri": "https://localhost:8080/",
          "height": 54
        }
      },
      "source": [
        "%%time\n",
        "hansard = pd.read_csv('hansard-1979-2018-v261.csv', usecols=columns, dtype=traintypes)# Dataset is now stored in a Pandas Dataframe"
      ],
      "execution_count": 0,
      "outputs": [
        {
          "output_type": "stream",
          "text": [
            "CPU times: user 21.7 s, sys: 911 ms, total: 22.6 s\n",
            "Wall time: 22.7 s\n"
          ],
          "name": "stdout"
        }
      ]
    },
    {
      "cell_type": "code",
      "metadata": {
        "id": "oLRrCGcFARgS",
        "colab_type": "code",
        "outputId": "f2536430-f5c9-4337-901f-d049bc4386d1",
        "colab": {
          "base_uri": "https://localhost:8080/",
          "height": 35
        }
      },
      "source": [
        "hansard.shape"
      ],
      "execution_count": 0,
      "outputs": [
        {
          "output_type": "execute_result",
          "data": {
            "text/plain": [
              "(2286324, 3)"
            ]
          },
          "metadata": {
            "tags": []
          },
          "execution_count": 13
        }
      ]
    },
    {
      "cell_type": "code",
      "metadata": {
        "id": "-yUnQsTeAUt1",
        "colab_type": "code",
        "outputId": "5d7d8844-dee6-4f34-8a27-98071c8ddd44",
        "colab": {
          "base_uri": "https://localhost:8080/",
          "height": 165
        }
      },
      "source": [
        "hansard.info()"
      ],
      "execution_count": 0,
      "outputs": [
        {
          "output_type": "stream",
          "text": [
            "<class 'pandas.core.frame.DataFrame'>\n",
            "RangeIndex: 2286324 entries, 0 to 2286323\n",
            "Data columns (total 3 columns):\n",
            "speech         object\n",
            "year           int32\n",
            "party_group    object\n",
            "dtypes: int32(1), object(2)\n",
            "memory usage: 43.6+ MB\n"
          ],
          "name": "stdout"
        }
      ]
    },
    {
      "cell_type": "markdown",
      "metadata": {
        "id": "uz31nw_tk56_",
        "colab_type": "text"
      },
      "source": [
        "# Pre-process the data"
      ]
    },
    {
      "cell_type": "markdown",
      "metadata": {
        "id": "F2xRoG53lKI2",
        "colab_type": "text"
      },
      "source": [
        "#### Keep speeches after 1997"
      ]
    },
    {
      "cell_type": "code",
      "metadata": {
        "id": "QAw-jcqfi3C_",
        "colab_type": "code",
        "colab": {}
      },
      "source": [
        "#Drop rows with year < 1995\n",
        "hansard.drop(hansard.loc[hansard['year']<1996].index, inplace=True)\n",
        "#hansard.drop(hansard['year']<1995, axis=0, inplace=True)"
      ],
      "execution_count": 0,
      "outputs": []
    },
    {
      "cell_type": "code",
      "metadata": {
        "id": "kXOY8V-zuzia",
        "colab_type": "code",
        "outputId": "1a840068-a77c-454a-c959-e26bfa404a73",
        "colab": {
          "base_uri": "https://localhost:8080/",
          "height": 35
        }
      },
      "source": [
        "hansard.shape"
      ],
      "execution_count": 0,
      "outputs": [
        {
          "output_type": "execute_result",
          "data": {
            "text/plain": [
              "(1327413, 3)"
            ]
          },
          "metadata": {
            "tags": []
          },
          "execution_count": 16
        }
      ]
    },
    {
      "cell_type": "code",
      "metadata": {
        "id": "irwDRRULkJWx",
        "colab_type": "code",
        "colab": {}
      },
      "source": [
        "hansard.drop('year', axis=1, inplace=True)"
      ],
      "execution_count": 0,
      "outputs": []
    },
    {
      "cell_type": "code",
      "metadata": {
        "id": "-dotYcFLyUac",
        "colab_type": "code",
        "outputId": "428f5d23-0946-4bbc-c217-113a3a66e8cc",
        "colab": {
          "base_uri": "https://localhost:8080/",
          "height": 146
        }
      },
      "source": [
        "hansard.info()"
      ],
      "execution_count": 0,
      "outputs": [
        {
          "output_type": "stream",
          "text": [
            "<class 'pandas.core.frame.DataFrame'>\n",
            "Int64Index: 1327413 entries, 958911 to 2286323\n",
            "Data columns (total 2 columns):\n",
            "speech         1327410 non-null object\n",
            "party_group    1251907 non-null object\n",
            "dtypes: object(2)\n",
            "memory usage: 30.4+ MB\n"
          ],
          "name": "stdout"
        }
      ]
    },
    {
      "cell_type": "markdown",
      "metadata": {
        "id": "hu5H969GlTVZ",
        "colab_type": "text"
      },
      "source": [
        "#### Check to see if we have **nan** values also rows with empty speech column"
      ]
    },
    {
      "cell_type": "code",
      "metadata": {
        "id": "l76JjC5sec_Q",
        "colab_type": "code",
        "outputId": "6ecd017d-deb9-446a-8c02-e2aaf45c8e59",
        "colab": {
          "base_uri": "https://localhost:8080/",
          "height": 72
        }
      },
      "source": [
        "hansard.isnull().sum()"
      ],
      "execution_count": 0,
      "outputs": [
        {
          "output_type": "execute_result",
          "data": {
            "text/plain": [
              "speech             3\n",
              "party_group    75506\n",
              "dtype: int64"
            ]
          },
          "metadata": {
            "tags": []
          },
          "execution_count": 19
        }
      ]
    },
    {
      "cell_type": "code",
      "metadata": {
        "id": "PFlx7RJIg1UJ",
        "colab_type": "code",
        "colab": {}
      },
      "source": [
        "# Drop rows that contain NaN values\n",
        "hansard.dropna(subset=['speech', 'party_group'], inplace=True)"
      ],
      "execution_count": 0,
      "outputs": []
    },
    {
      "cell_type": "code",
      "metadata": {
        "id": "uux8y4i4hIiq",
        "colab_type": "code",
        "outputId": "c293f1ca-4f88-4cdc-d4f6-7465c38e0bdc",
        "colab": {
          "base_uri": "https://localhost:8080/",
          "height": 35
        }
      },
      "source": [
        "hansard.shape"
      ],
      "execution_count": 0,
      "outputs": [
        {
          "output_type": "execute_result",
          "data": {
            "text/plain": [
              "(1251907, 2)"
            ]
          },
          "metadata": {
            "tags": []
          },
          "execution_count": 21
        }
      ]
    },
    {
      "cell_type": "code",
      "metadata": {
        "id": "rwICwfoT06dG",
        "colab_type": "code",
        "colab": {}
      },
      "source": [
        "hansard.reset_index(drop=True, inplace=True)"
      ],
      "execution_count": 0,
      "outputs": []
    },
    {
      "cell_type": "markdown",
      "metadata": {
        "id": "4qz77cuxynsV",
        "colab_type": "text"
      },
      "source": [
        "#### Filtering out all the rows with empty sppeeches "
      ]
    },
    {
      "cell_type": "code",
      "metadata": {
        "id": "7QFeAgus1WzE",
        "colab_type": "code",
        "colab": {}
      },
      "source": [
        "hansard = hansard[hansard.speech.apply(lambda x: x !=\"\")]"
      ],
      "execution_count": 0,
      "outputs": []
    },
    {
      "cell_type": "code",
      "metadata": {
        "id": "RsnLg6Tm1t2N",
        "colab_type": "code",
        "outputId": "50ec5fb7-1982-4e66-ef36-4ba968dd56cd",
        "colab": {
          "base_uri": "https://localhost:8080/",
          "height": 35
        }
      },
      "source": [
        "hansard.shape"
      ],
      "execution_count": 0,
      "outputs": [
        {
          "output_type": "execute_result",
          "data": {
            "text/plain": [
              "(1251907, 2)"
            ]
          },
          "metadata": {
            "tags": []
          },
          "execution_count": 24
        }
      ]
    },
    {
      "cell_type": "code",
      "metadata": {
        "id": "iFuRHxnh11_2",
        "colab_type": "code",
        "outputId": "b5d3c740-7a26-462a-964f-02912a11b641",
        "colab": {
          "base_uri": "https://localhost:8080/",
          "height": 35
        }
      },
      "source": [
        "print(1304511-1304468)"
      ],
      "execution_count": 0,
      "outputs": [
        {
          "output_type": "stream",
          "text": [
            "43\n"
          ],
          "name": "stdout"
        }
      ]
    },
    {
      "cell_type": "markdown",
      "metadata": {
        "id": "eFjh-B1HZgm_",
        "colab_type": "text"
      },
      "source": [
        "### See how the text looks like"
      ]
    },
    {
      "cell_type": "code",
      "metadata": {
        "id": "i46zEbrDZr1h",
        "colab_type": "code",
        "outputId": "4aa24e45-91ce-4815-e551-deb25426d169",
        "colab": {
          "base_uri": "https://localhost:8080/",
          "height": 166
        }
      },
      "source": [
        "def print_plot(index): \n",
        "  example = hansard[hansard.index == index][['speech', 'party_group']].values[0] \n",
        "  if len(example) > 0: \n",
        "    print(example[0]) \n",
        "    print('Tag:', example[1])\n",
        "print_plot(10)"
      ],
      "execution_count": 0,
      "outputs": [
        {
          "output_type": "stream",
          "text": [
            "The House has considered the Government's Bill at length and in detail since early afternoon. It is right that the House should have had that amount of time to consider such an important measure in detail. I am grateful to the large number of hon. Members on both sides of the House who have spoken in the debate. I am especially grateful to those who intend to support the Government in the Division Lobby later tonight.\n",
            "I also listened with great care to those who have a contrary view. In matters of this kind, it behoves any Government to listen with great care to points of concern about the issues that we have considered today, especially as they relate to the criminal justice system and the concept of liberty. I shall respond to as many points as possible in the time available. First, I shall take up the remarks of the hon. Member for Clydebank and Milngavie Mr. Worthington). Interruption.] I am obliged to the Scottish representatives for their correction of my pronunciation of the hon. Gentleman's constituency. I suspect that I shall have the pleasure of referring to the hon. Gentleman and his constituency quite frequently during the Standing Committee which we shall commence shortly.\n",
            "The hon. Gentleman began his remarks by criticising the Government for publishing the Bill on the last day before the Christmas recess. I regret any inconvenience that that caused the hon. Gentleman and Opposition spokesmen, and it was not the Government's intention to embarrass him or his colleagues or to cause them inconvenience. But the fact is that the process of preparing this Bill was lengthy, and there were many detailed issues which had to be considered right up to the last moment. As a matter of fact, the day concerned was a sitting day of this House, and it was perfectly proper to employ that day for the business of Her Majesty's Government. Having said that, I regret the inconvenience that was caused to the hon. Gentleman.\n",
            "The hon. Gentleman made the serious point that so-called punishment attacks stopped in Northern Ireland when the President of the United States paid his visit. That was a cynical piece of behaviour on the part of Provisional IRA-Sinn Fein. The fact is that Mr. Adams and the leadership of that structure are able to stop the violence when it suits their purpose, and the hon. Gentleman was right to make that point as strongly as he did.\n",
            "The hon. Gentleman went on to say that emergency legislation of one kind or another will have been on the statute book for some 25 years by the time the review is over. Who in this House would not regret that? But the problem is that it is not this House that is the cause of that emergency legislation, but those who seek to kill, to intimidate, to maim and to attack others in pursuit of their criminal endeavours. Those people are the reason why this House has to consider exceptional measures to deal with exceptional circumstances.\n",
            "\n",
            "Tag: Conservative\n"
          ],
          "name": "stdout"
        }
      ]
    },
    {
      "cell_type": "markdown",
      "metadata": {
        "id": "krMXpGsXb5M8",
        "colab_type": "text"
      },
      "source": [
        "How many words we have in our corpus"
      ]
    },
    {
      "cell_type": "code",
      "metadata": {
        "id": "T-bieAaAb-Uv",
        "colab_type": "code",
        "outputId": "9a9b9879-90b5-4592-f3f0-a3bc20276cbb",
        "colab": {
          "base_uri": "https://localhost:8080/",
          "height": 72
        }
      },
      "source": [
        "%%time\n",
        "print(hansard['speech'].apply(lambda x: len(x.split(' '))).sum())"
      ],
      "execution_count": 0,
      "outputs": [
        {
          "output_type": "stream",
          "text": [
            "209619943\n",
            "CPU times: user 10.9 s, sys: 0 ns, total: 10.9 s\n",
            "Wall time: 10.9 s\n"
          ],
          "name": "stdout"
        }
      ]
    },
    {
      "cell_type": "markdown",
      "metadata": {
        "id": "fHnQiydU5Fzo",
        "colab_type": "text"
      },
      "source": [
        "# Clean the text"
      ]
    },
    {
      "cell_type": "markdown",
      "metadata": {
        "id": "sr5T_Bhz3pkf",
        "colab_type": "text"
      },
      "source": [
        "- Remove punctuation\n",
        "- Convert upper case words to lower case ones\n",
        "- Remove stop words\n",
        "- Stemming\n"
      ]
    },
    {
      "cell_type": "code",
      "metadata": {
        "id": "_PkhC4Ot5k4Q",
        "colab_type": "code",
        "colab": {}
      },
      "source": [
        "def clean_text(text): \n",
        "\n",
        "    ## Remove puncuation\n",
        "    text = text.translate(string.punctuation)\n",
        "    \n",
        "    ## Convert words to lower case and split them\n",
        "    text = text.lower().split()\n",
        "    \n",
        "    ## Remove stop words\n",
        "    stops = set(stopwords.words(\"english\"))\n",
        "    text = [w for w in text if not w in stops and len(w) >= 3]\n",
        "    \n",
        "    text = \" \".join(text)   \n",
        "\n",
        "    ## Stemming\n",
        "    #text = text.split()\n",
        "    #stemmer = SnowballStemmer('english')\n",
        "    #stemmed_words = [stemmer.stem(word) for word in text]\n",
        "    #text = \" \".join(stemmed_words)\n",
        "\n",
        "    return text\n"
      ],
      "execution_count": 0,
      "outputs": []
    },
    {
      "cell_type": "code",
      "metadata": {
        "id": "pPwKIv906bO7",
        "colab_type": "code",
        "colab": {
          "base_uri": "https://localhost:8080/",
          "height": 54
        },
        "outputId": "4d6b19df-24e8-48e2-c629-6aca2b6b84e7"
      },
      "source": [
        "%%time\n",
        "hansard['speech_cleaned'] = hansard['speech'].map(lambda x: clean_text(x))"
      ],
      "execution_count": 29,
      "outputs": [
        {
          "output_type": "stream",
          "text": [
            "CPU times: user 3min 55s, sys: 10.8 s, total: 4min 6s\n",
            "Wall time: 4min 6s\n"
          ],
          "name": "stdout"
        }
      ]
    },
    {
      "cell_type": "markdown",
      "metadata": {
        "id": "-QV4lCsMcj1R",
        "colab_type": "text"
      },
      "source": [
        "Count the number of words in the corpus after data cleaning step"
      ]
    },
    {
      "cell_type": "code",
      "metadata": {
        "id": "_dvZUvopCnVv",
        "colab_type": "code",
        "outputId": "32adaa7e-053e-4d90-a09c-3f865d7f5f5b",
        "colab": {
          "base_uri": "https://localhost:8080/",
          "height": 70
        }
      },
      "source": [
        "%%time\n",
        "hansard['speech_cleaned'].apply(lambda x: len(x.split(' '))).sum()"
      ],
      "execution_count": 0,
      "outputs": [
        {
          "output_type": "stream",
          "text": [
            "CPU times: user 7.07 s, sys: 24.4 ms, total: 7.09 s\n",
            "Wall time: 7.11 s\n"
          ],
          "name": "stdout"
        },
        {
          "output_type": "execute_result",
          "data": {
            "text/plain": [
              "105006729"
            ]
          },
          "metadata": {
            "tags": []
          },
          "execution_count": 28
        }
      ]
    },
    {
      "cell_type": "code",
      "metadata": {
        "id": "RdBb5OXIc216",
        "colab_type": "code",
        "colab": {}
      },
      "source": [
        "# Drop speech column\n",
        "hansard.drop('speech', axis=1, inplace=True)"
      ],
      "execution_count": 0,
      "outputs": []
    },
    {
      "cell_type": "code",
      "metadata": {
        "id": "Sp3BbkRVdNji",
        "colab_type": "code",
        "outputId": "d1d79447-76a7-4599-de7d-01b086c60825",
        "colab": {
          "base_uri": "https://localhost:8080/",
          "height": 146
        }
      },
      "source": [
        "hansard.info()"
      ],
      "execution_count": 31,
      "outputs": [
        {
          "output_type": "stream",
          "text": [
            "<class 'pandas.core.frame.DataFrame'>\n",
            "Int64Index: 1251907 entries, 0 to 1251906\n",
            "Data columns (total 2 columns):\n",
            "party_group       1251907 non-null object\n",
            "speech_cleaned    1251907 non-null object\n",
            "dtypes: object(2)\n",
            "memory usage: 28.7+ MB\n"
          ],
          "name": "stdout"
        }
      ]
    },
    {
      "cell_type": "markdown",
      "metadata": {
        "id": "vng9hYkYlhWp",
        "colab_type": "text"
      },
      "source": [
        "#### Check the class distribution"
      ]
    },
    {
      "cell_type": "code",
      "metadata": {
        "id": "S3Zvm8FykcWA",
        "colab_type": "code",
        "outputId": "31a0499d-991c-400c-ebe5-e39776aaf38f",
        "colab": {
          "base_uri": "https://localhost:8080/",
          "height": 128
        }
      },
      "source": [
        "# Class distribution \n",
        "hansard['party_group'].value_counts() / len(hansard)"
      ],
      "execution_count": 32,
      "outputs": [
        {
          "output_type": "execute_result",
          "data": {
            "text/plain": [
              "Labour              0.429253\n",
              "Conservative        0.409103\n",
              "Liberal Democrat    0.077670\n",
              "Other               0.064754\n",
              "SNP                 0.019220\n",
              "Name: party_group, dtype: float64"
            ]
          },
          "metadata": {
            "tags": []
          },
          "execution_count": 32
        }
      ]
    },
    {
      "cell_type": "code",
      "metadata": {
        "id": "NN9AScPwW1fU",
        "colab_type": "code",
        "outputId": "8656adb7-d576-4efe-bfad-f128eb0ed032",
        "colab": {
          "base_uri": "https://localhost:8080/",
          "height": 341
        }
      },
      "source": [
        "plt.figure(figsize=(10,4))\n",
        "hansard['party_group'].value_counts().plot(kind='bar');"
      ],
      "execution_count": 33,
      "outputs": [
        {
          "output_type": "display_data",
          "data": {
            "image/png": "[encoded data removed]",
            "text/plain": [
              "<Figure size 720x288 with 1 Axes>"
            ]
          },
          "metadata": {
            "tags": []
          }
        }
      ]
    },
    {
      "cell_type": "markdown",
      "metadata": {
        "id": "6pnDq49Jyx4R",
        "colab_type": "text"
      },
      "source": [
        "#### Dealing with imbalanced data \n",
        "1. Three classes: Liberal Democrat, SNP and party_group can be aggregated into one class called other"
      ]
    },
    {
      "cell_type": "code",
      "metadata": {
        "id": "TjH59XvX1i1j",
        "colab_type": "code",
        "colab": {}
      },
      "source": [
        "hansard.loc[hansard.party_group == 'SNP', 'party_group'] = 'Other'\n",
        "hansard.loc[hansard.party_group == 'Liberal Democrat', 'party_group'] = 'Other'"
      ],
      "execution_count": 0,
      "outputs": []
    },
    {
      "cell_type": "code",
      "metadata": {
        "id": "OZlbymbf2Gfa",
        "colab_type": "code",
        "outputId": "0e8f4b65-a1e1-4f5c-f071-6e29335bcbf5",
        "colab": {
          "base_uri": "https://localhost:8080/",
          "height": 91
        }
      },
      "source": [
        "hansard['party_group'].value_counts() / len(hansard)"
      ],
      "execution_count": 35,
      "outputs": [
        {
          "output_type": "execute_result",
          "data": {
            "text/plain": [
              "Labour          0.429253\n",
              "Conservative    0.409103\n",
              "Other           0.161644\n",
              "Name: party_group, dtype: float64"
            ]
          },
          "metadata": {
            "tags": []
          },
          "execution_count": 35
        }
      ]
    },
    {
      "cell_type": "code",
      "metadata": {
        "id": "fi05MeoeXFag",
        "colab_type": "code",
        "outputId": "0e54fac9-ae82-42b7-829a-21665dab0fb5",
        "colab": {
          "base_uri": "https://localhost:8080/",
          "height": 321
        }
      },
      "source": [
        "plt.figure(figsize=(10,4))\n",
        "hansard['party_group'].value_counts().plot(kind='bar');"
      ],
      "execution_count": 36,
      "outputs": [
        {
          "output_type": "display_data",
          "data": {
            "image/png": "[encoded data removed]",
            "text/plain": [
              "<Figure size 720x288 with 1 Axes>"
            ]
          },
          "metadata": {
            "tags": []
          }
        }
      ]
    },
    {
      "cell_type": "markdown",
      "metadata": {
        "id": "OHiul5asxIIh",
        "colab_type": "text"
      },
      "source": [
        "# Train test split"
      ]
    },
    {
      "cell_type": "code",
      "metadata": {
        "id": "YCFZ2DwkxHrx",
        "colab_type": "code",
        "colab": {}
      },
      "source": [
        "from sklearn.model_selection import train_test_split"
      ],
      "execution_count": 0,
      "outputs": []
    },
    {
      "cell_type": "code",
      "metadata": {
        "id": "sF7Hsf2F1UOj",
        "colab_type": "code",
        "colab": {}
      },
      "source": [
        "X_train, hansard_test, y_train, hansard_test_y = train_test_split(hansard, hansard['party_group'], test_size=0.1, random_state=42)"
      ],
      "execution_count": 0,
      "outputs": []
    },
    {
      "cell_type": "code",
      "metadata": {
        "id": "KMAz_gMc2DeH",
        "colab_type": "code",
        "outputId": "81399726-e704-4ee2-946c-c62f2a695b83",
        "colab": {
          "base_uri": "https://localhost:8080/",
          "height": 220
        }
      },
      "source": [
        "print('Party_Group distribution in training set: ')\n",
        "print(X_train['party_group'].value_counts() / len(hansard))\n",
        "print('\\nParty_Group distribution in test set: ')\n",
        "print(hansard_test['party_group'].value_counts() / len(hansard))"
      ],
      "execution_count": 39,
      "outputs": [
        {
          "output_type": "stream",
          "text": [
            "Party_Group distribution in training set: \n",
            "Labour          0.386323\n",
            "Conservative    0.367986\n",
            "Other           0.145691\n",
            "Name: party_group, dtype: float64\n",
            "\n",
            "Party_Group distribution in test set: \n",
            "Labour          0.042930\n",
            "Conservative    0.041117\n",
            "Other           0.015953\n",
            "Name: party_group, dtype: float64\n"
          ],
          "name": "stdout"
        }
      ]
    },
    {
      "cell_type": "code",
      "metadata": {
        "id": "rILn2iKD2j1s",
        "colab_type": "code",
        "colab": {}
      },
      "source": [
        "hansard_train, hansard_val, hansard_train_y, hansard_val_y = train_test_split(X_train, y_train, test_size=0.2, random_state=42)"
      ],
      "execution_count": 0,
      "outputs": []
    },
    {
      "cell_type": "code",
      "metadata": {
        "id": "luiEwjTa3i1-",
        "colab_type": "code",
        "outputId": "9559d8c6-444a-48db-d65c-4ec5c70a198f",
        "colab": {
          "base_uri": "https://localhost:8080/",
          "height": 220
        }
      },
      "source": [
        "print('Party_Group distribution in training set: ')\n",
        "print(X_train['party_group'].value_counts() / len(hansard))\n",
        "print('\\nParty_Group distribution in test set: ')\n",
        "print(hansard_test['party_group'].value_counts() / len(hansard))"
      ],
      "execution_count": 41,
      "outputs": [
        {
          "output_type": "stream",
          "text": [
            "Party_Group distribution in training set: \n",
            "Labour          0.386323\n",
            "Conservative    0.367986\n",
            "Other           0.145691\n",
            "Name: party_group, dtype: float64\n",
            "\n",
            "Party_Group distribution in test set: \n",
            "Labour          0.042930\n",
            "Conservative    0.041117\n",
            "Other           0.015953\n",
            "Name: party_group, dtype: float64\n"
          ],
          "name": "stdout"
        }
      ]
    },
    {
      "cell_type": "code",
      "metadata": {
        "id": "2ahoeEDS3qwq",
        "colab_type": "code",
        "outputId": "841c04db-2bb7-4c2e-da91-41e2b991e6f6",
        "colab": {
          "base_uri": "https://localhost:8080/",
          "height": 183
        }
      },
      "source": [
        "#hansard_train\n",
        "#gansard_ val\n",
        "#hansard_test\n",
        "print(hansard_train.isnull().sum())\n",
        "\n",
        "print(hansard_val.isnull().sum())\n",
        "print(hansard_test.isnull().sum())"
      ],
      "execution_count": 42,
      "outputs": [
        {
          "output_type": "stream",
          "text": [
            "party_group       0\n",
            "speech_cleaned    0\n",
            "dtype: int64\n",
            "party_group       0\n",
            "speech_cleaned    0\n",
            "dtype: int64\n",
            "party_group       0\n",
            "speech_cleaned    0\n",
            "dtype: int64\n"
          ],
          "name": "stdout"
        }
      ]
    },
    {
      "cell_type": "markdown",
      "metadata": {
        "id": "rkL8S54KA4hq",
        "colab_type": "text"
      },
      "source": [
        "- hansard_train\n",
        "- hansard_test\n",
        "- hansard_val"
      ]
    },
    {
      "cell_type": "markdown",
      "metadata": {
        "id": "O3lwnj3Wr0Ag",
        "colab_type": "text"
      },
      "source": [
        "# Tokenize speeches in train set and validation set"
      ]
    },
    {
      "cell_type": "code",
      "metadata": {
        "id": "StaTWTKjArUz",
        "colab_type": "code",
        "colab": {}
      },
      "source": [
        "speech_list_train = hansard_train['speech_cleaned'].tolist()\n",
        "speech_list_val = hansard_val['speech_cleaned'].tolist()"
      ],
      "execution_count": 0,
      "outputs": []
    },
    {
      "cell_type": "code",
      "metadata": {
        "id": "gU2oTGp58qvt",
        "colab_type": "code",
        "outputId": "6101b679-220c-467a-b8b7-142a266cbe4a",
        "colab": {
          "base_uri": "https://localhost:8080/",
          "height": 54
        }
      },
      "source": [
        "%%time\n",
        "tokenizer = Tokenizer(num_words = vocab_size, oov_token=oov_tok)\n",
        "tokenizer.fit_on_texts(hansard_train['speech_cleaned'].tolist())\n",
        "word_index_train = tokenizer.word_index\n",
        "dict(list(word_index_train.items())[0:10])"
      ],
      "execution_count": 44,
      "outputs": [
        {
          "output_type": "stream",
          "text": [
            "CPU times: user 1min 28s, sys: 121 ms, total: 1min 28s\n",
            "Wall time: 1min 28s\n"
          ],
          "name": "stdout"
        }
      ]
    },
    {
      "cell_type": "code",
      "metadata": {
        "id": "iUS4o6nVsDUL",
        "colab_type": "code",
        "outputId": "e4daa529-c64f-452a-ee4d-1fd1dd3ee95f",
        "colab": {
          "base_uri": "https://localhost:8080/",
          "height": 54
        }
      },
      "source": [
        "%%time\n",
        "tokenizer.fit_on_texts(hansard_val['speech_cleaned'].tolist())\n",
        "word_index_val = tokenizer.word_index\n",
        "dict(list(word_index_val.items())[0:10])"
      ],
      "execution_count": 46,
      "outputs": [
        {
          "output_type": "stream",
          "text": [
            "CPU times: user 24 s, sys: 94.5 ms, total: 24.1 s\n",
            "Wall time: 24.1 s\n"
          ],
          "name": "stdout"
        }
      ]
    },
    {
      "cell_type": "code",
      "metadata": {
        "id": "KrDD_kSfu2_p",
        "colab_type": "code",
        "outputId": "fcc1cd57-ac2c-43f3-e45b-5ee7c7513217",
        "colab": {
          "base_uri": "https://localhost:8080/",
          "height": 91
        }
      },
      "source": [
        "hansard_train['speech_cleaned'].head(3)"
      ],
      "execution_count": 47,
      "outputs": [
        {
          "output_type": "execute_result",
          "data": {
            "text/plain": [
              "383139    \"may associate constituency expression regret ...\n",
              "945784    prime minister tell whether, end parliament, l...\n",
              "830106    \"does minister agree justice best dispensed ne...\n",
              "Name: speech_cleaned, dtype: object"
            ]
          },
          "metadata": {
            "tags": []
          },
          "execution_count": 47
        }
      ]
    },
    {
      "cell_type": "code",
      "metadata": {
        "id": "8NNEDGcssgr9",
        "colab_type": "code",
        "outputId": "f4b454ee-0ba2-473d-ae96-b0909f7db0da",
        "colab": {
          "base_uri": "https://localhost:8080/",
          "height": 91
        }
      },
      "source": [
        "hansard_val['speech_cleaned'].head(3)"
      ],
      "execution_count": 48,
      "outputs": [
        {
          "output_type": "execute_result",
          "data": {
            "text/plain": [
              "361653     discussions scottish executive encouraging rec...\n",
              "1235615                                  minister give way?+\n",
              "1157185    accept must accept referendum decision, proble...\n",
              "Name: speech_cleaned, dtype: object"
            ]
          },
          "metadata": {
            "tags": []
          },
          "execution_count": 48
        }
      ]
    },
    {
      "cell_type": "code",
      "metadata": {
        "id": "lQbwtsXEBS9y",
        "colab_type": "code",
        "colab": {}
      },
      "source": [
        "%%time\n",
        "train_sequences = tokenizer.texts_to_sequences(hansard_train['speech_cleaned'])\n",
        "val_sequences = tokenizer.texts_to_sequences(hansard_val['speech_cleaned'])"
      ],
      "execution_count": 0,
      "outputs": []
    },
    {
      "cell_type": "code",
      "metadata": {
        "id": "f0nqRHIsDUSf",
        "colab_type": "code",
        "outputId": "bef59c10-11e6-403f-e10c-977964bc741e",
        "colab": {
          "base_uri": "https://localhost:8080/",
          "height": 35
        }
      },
      "source": [
        "type(train_sequences)"
      ],
      "execution_count": 50,
      "outputs": [
        {
          "output_type": "execute_result",
          "data": {
            "text/plain": [
              "list"
            ]
          },
          "metadata": {
            "tags": []
          },
          "execution_count": 50
        }
      ]
    },
    {
      "cell_type": "code",
      "metadata": {
        "id": "vUmHlYKCCedp",
        "colab_type": "code",
        "outputId": "b28d8d00-2fec-402c-a25c-922a1bec4ecd",
        "colab": {
          "base_uri": "https://localhost:8080/",
          "height": 54
        }
      },
      "source": [
        "print(len(train_sequences))\n",
        "print(len(val_sequences))"
      ],
      "execution_count": 51,
      "outputs": [
        {
          "output_type": "stream",
          "text": [
            "901372\n",
            "225344\n"
          ],
          "name": "stdout"
        }
      ]
    },
    {
      "cell_type": "code",
      "metadata": {
        "id": "Pm0ty43LdeWR",
        "colab_type": "code",
        "outputId": "0576021c-3410-4da5-e07e-6182d7ecfcf4",
        "colab": {
          "base_uri": "https://localhost:8080/",
          "height": 128
        }
      },
      "source": [
        "# padding train_sequences to 200\n",
        "train_padded = pad_sequences(train_sequences, maxlen = max_length, padding=padding_type, truncating=trunc_type)\n",
        "print(len(train_sequences[0]))\n",
        "print(len(train_padded[0]))\n",
        "\n",
        "print(len(train_sequences[1]))\n",
        "print(len(train_padded[1]))\n",
        "\n",
        "print(len(train_sequences[10]))\n",
        "print(len(train_padded[10]))"
      ],
      "execution_count": 52,
      "outputs": [
        {
          "output_type": "stream",
          "text": [
            "45\n",
            "200\n",
            "11\n",
            "200\n",
            "1\n",
            "200\n"
          ],
          "name": "stdout"
        }
      ]
    },
    {
      "cell_type": "code",
      "metadata": {
        "id": "EV_G7Vjns3SZ",
        "colab_type": "code",
        "outputId": "cc32281e-81c8-423b-b557-a83951d0f186",
        "colab": {
          "base_uri": "https://localhost:8080/",
          "height": 128
        }
      },
      "source": [
        "# padding val_sequences to 200\n",
        "val_padded = pad_sequences(val_sequences, maxlen = max_length, padding=padding_type, truncating=trunc_type)\n",
        "print(len(val_sequences[0]))\n",
        "print(len(val_padded[0]))\n",
        "\n",
        "print(len(val_sequences[1]))\n",
        "print(len(val_padded[1]))\n",
        "\n",
        "print(len(val_sequences[10]))\n",
        "print(len(val_padded[10]))"
      ],
      "execution_count": 53,
      "outputs": [
        {
          "output_type": "stream",
          "text": [
            "6\n",
            "200\n",
            "3\n",
            "200\n",
            "50\n",
            "200\n"
          ],
          "name": "stdout"
        }
      ]
    },
    {
      "cell_type": "code",
      "metadata": {
        "id": "cF0lkRvcQyB6",
        "colab_type": "code",
        "outputId": "dbeebe71-057d-4e0f-c7f9-23f5ad6b3c89",
        "colab": {
          "base_uri": "https://localhost:8080/",
          "height": 54
        }
      },
      "source": [
        "#Tokenizing the train_labels and val_labels\n",
        "\n",
        "label_tokenizer = Tokenizer()\n",
        "label_tokenizer.fit_on_texts(hansard_train_y.tolist())\n",
        "\n",
        "label_tokenizer.fit_on_texts(hansard_val_y.tolist())\n",
        "\n",
        "train_label_seq = label_tokenizer.texts_to_sequences(hansard_train_y.tolist())\n",
        "val_label_seq = label_tokenizer.texts_to_sequences(hansard_val_y.tolist())\n",
        "\n",
        "print(type(train_label_seq))\n",
        "print(type(val_label_seq))"
      ],
      "execution_count": 54,
      "outputs": [
        {
          "output_type": "stream",
          "text": [
            "<class 'list'>\n",
            "<class 'list'>\n"
          ],
          "name": "stdout"
        }
      ]
    },
    {
      "cell_type": "code",
      "metadata": {
        "id": "FN9s-nAzEWLV",
        "colab_type": "code",
        "outputId": "bbb067f4-4c15-45eb-b4fa-b3ca080ac8df",
        "colab": {
          "base_uri": "https://localhost:8080/",
          "height": 91
        }
      },
      "source": [
        "print(type(train_label_seq))\n",
        "print(type(val_label_seq))\n",
        "print(len(train_label_seq))\n",
        "print(len(val_label_seq))"
      ],
      "execution_count": 55,
      "outputs": [
        {
          "output_type": "stream",
          "text": [
            "<class 'list'>\n",
            "<class 'list'>\n",
            "901372\n",
            "225344\n"
          ],
          "name": "stdout"
        }
      ]
    },
    {
      "cell_type": "markdown",
      "metadata": {
        "id": "UxyuNUmd0ZHP",
        "colab_type": "text"
      },
      "source": [
        "# Models\n"
      ]
    },
    {
      "cell_type": "markdown",
      "metadata": {
        "id": "CyyzBu4uW2IV",
        "colab_type": "text"
      },
      "source": [
        "### Model_0\n",
        "We use an embeding layer trianed with our own data. \n",
        "\n",
        "Then a bidirectional LSTM. \n",
        "\n",
        "A dense layer with activation relu and the output layer gets a softmax activation function. "
      ]
    },
    {
      "cell_type": "code",
      "metadata": {
        "id": "imwneTftRgZE",
        "colab_type": "code",
        "outputId": "b3d79465-e490-4115-a3fa-3e0f23ed63ff",
        "colab": {
          "base_uri": "https://localhost:8080/",
          "height": 313
        }
      },
      "source": [
        "# This is the first model we tried\n",
        "model_0 = tf.keras.Sequential([\n",
        "    # Add an Embedding layer expecting input vocab of size 5000, and output embedding dimension of size 50 we set at the top\n",
        "    tf.keras.layers.Embedding(vocab_size, embedding_dim),\n",
        "    tf.keras.layers.Bidirectional(tf.keras.layers.LSTM(embedding_dim)),\n",
        "    tf.keras.layers.Dense(embedding_dim, activation='relu'),\n",
        "    tf.keras.layers.Dense(4, activation='softmax')\n",
        "])\n",
        "model_0.summary()"
      ],
      "execution_count": 56,
      "outputs": [
        {
          "output_type": "stream",
          "text": [
            "Model: \"sequential\"\n",
            "_________________________________________________________________\n",
            "Layer (type)                 Output Shape              Param #   \n",
            "=================================================================\n",
            "embedding (Embedding)        (None, None, 50)          250000    \n",
            "_________________________________________________________________\n",
            "bidirectional (Bidirectional (None, 100)               40400     \n",
            "_________________________________________________________________\n",
            "dense (Dense)                (None, 50)                5050      \n",
            "_________________________________________________________________\n",
            "dense_1 (Dense)              (None, 4)                 204       \n",
            "=================================================================\n",
            "Total params: 295,654\n",
            "Trainable params: 295,654\n",
            "Non-trainable params: 0\n",
            "_________________________________________________________________\n"
          ],
          "name": "stdout"
        }
      ]
    },
    {
      "cell_type": "code",
      "metadata": {
        "id": "UDqw7evfRpiX",
        "colab_type": "code",
        "colab": {
          "base_uri": "https://localhost:8080/",
          "height": 109
        },
        "outputId": "72fe8c5d-fb2d-4f4a-e29f-1b658215e019"
      },
      "source": [
        "%%time\n",
        "model_0.compile(loss='sparse_categorical_crossentropy', optimizer='adam', metrics=['accuracy'])\n",
        "history = model_0.fit(tf.convert_to_tensor(train_padded), tf.convert_to_tensor(train_label_seq), epochs=2, validation_data=(tf.convert_to_tensor(val_padded), tf.convert_to_tensor(val_label_seq)), verbose=2)"
      ],
      "execution_count": 62,
      "outputs": [
        {
          "output_type": "stream",
          "text": [
            "Train on 901372 samples, validate on 225344 samples\n",
            "Epoch 1/2\n",
            "901372/901372 - 617s - loss: 0.8819 - accuracy: 0.5710 - val_loss: 0.8247 - val_accuracy: 0.6096\n",
            "Epoch 2/2\n",
            "901372/901372 - 615s - loss: 0.7981 - accuracy: 0.6280 - val_loss: 0.7855 - val_accuracy: 0.6356\n"
          ],
          "name": "stdout"
        }
      ]
    },
    {
      "cell_type": "code",
      "metadata": {
        "id": "8rfKe7q0tP9e",
        "colab_type": "code",
        "colab": {
          "base_uri": "https://localhost:8080/",
          "height": 591
        },
        "outputId": "a43871dd-f6e3-4f64-a0b5-95626e14ffd8"
      },
      "source": [
        "# list all data in history\n",
        "print(history.history.keys())\n",
        "# summarize history for accuracy\n",
        "plt.plot(history.history['accuracy'])\n",
        "plt.plot(history.history['val_accuracy'])\n",
        "plt.title('model accuracy')\n",
        "plt.ylabel('accuracy')\n",
        "plt.xlabel('epoch')\n",
        "plt.legend(['train', 'test'], loc='upper left')\n",
        "plt.show()\n",
        "# summarize history for loss\n",
        "plt.plot(history.history['loss'])\n",
        "plt.plot(history.history['val_loss'])\n",
        "plt.title('model loss')\n",
        "plt.ylabel('loss')\n",
        "plt.xlabel('epoch')\n",
        "plt.legend(['train', 'test'], loc='upper left')\n",
        "plt.show()"
      ],
      "execution_count": 63,
      "outputs": [
        {
          "output_type": "stream",
          "text": [
            "dict_keys(['loss', 'accuracy', 'val_loss', 'val_accuracy'])\n"
          ],
          "name": "stdout"
        },
        {
          "output_type": "display_data",
          "data": {
            "image/png": "[encoded data removed]",
            "text/plain": [
              "<Figure size 432x288 with 1 Axes>"
            ]
          },
          "metadata": {
            "tags": []
          }
        },
        {
          "output_type": "display_data",
          "data": {
            "image/png": "[encoded data removed]",
            "text/plain": [
              "<Figure size 432x288 with 1 Axes>"
            ]
          },
          "metadata": {
            "tags": []
          }
        }
      ]
    },
    {
      "cell_type": "markdown",
      "metadata": {
        "id": "-SKsEJ5rb_Vc",
        "colab_type": "text"
      },
      "source": [
        "We can see that train accuracy line (blue) has a faster grow than the validation accuracy. Also, in the loss plot, train loss falls faster than accuracy loss. We we train this model with more eopchs, we see that after 5 epoch, validation accuracy won't change but training accuracy keeps growing. This is the issue of overfitting. In the next model, we try to solve this issue. "
      ]
    },
    {
      "cell_type": "markdown",
      "metadata": {
        "id": "v7mfSDq9XibX",
        "colab_type": "text"
      },
      "source": [
        "### Model_1\n",
        "Model_0 suffered from overfitting. Here we try to solve this issue. \n",
        "\n",
        "We add a Conv1D layer to speed up the computation and also solve the overfitting issue. \n",
        "\n",
        "We add a drop out layer after the embedding layer. "
      ]
    },
    {
      "cell_type": "code",
      "metadata": {
        "id": "Fn7G2wS_3JW1",
        "colab_type": "code",
        "colab": {
          "base_uri": "https://localhost:8080/",
          "height": 424
        },
        "outputId": "efaa8645-27dc-49cb-d0ac-7c5db798043f"
      },
      "source": [
        "model_1 = tf.keras.Sequential([\n",
        "    # Add an Embedding layer expecting input vocab of size 5000, and output embedding dimension of size 50 we set at the top\n",
        "    tf.keras.layers.Embedding(vocab_size, embedding_dim),\n",
        "    tf.keras.layers.Dropout(0.2),\n",
        "    tf.keras.layers.Conv1D(64, 5, activation='relu'),\n",
        "    tf.keras.layers.MaxPool1D(pool_size=4),\n",
        "    tf.keras.layers.LSTM(embedding_dim),\n",
        "    tf.keras.layers.Dense(embedding_dim, activation='relu'),\n",
        "    tf.keras.layers.Dense(4, activation='softmax')\n",
        "])\n",
        "model_1.summary()"
      ],
      "execution_count": 58,
      "outputs": [
        {
          "output_type": "stream",
          "text": [
            "Model: \"sequential_2\"\n",
            "_________________________________________________________________\n",
            "Layer (type)                 Output Shape              Param #   \n",
            "=================================================================\n",
            "embedding_2 (Embedding)      (None, None, 50)          250000    \n",
            "_________________________________________________________________\n",
            "dropout_1 (Dropout)          (None, None, 50)          0         \n",
            "_________________________________________________________________\n",
            "conv1d_1 (Conv1D)            (None, None, 64)          16064     \n",
            "_________________________________________________________________\n",
            "max_pooling1d_1 (MaxPooling1 (None, None, 64)          0         \n",
            "_________________________________________________________________\n",
            "lstm_2 (LSTM)                (None, 50)                23000     \n",
            "_________________________________________________________________\n",
            "dense_4 (Dense)              (None, 50)                2550      \n",
            "_________________________________________________________________\n",
            "dense_5 (Dense)              (None, 4)                 204       \n",
            "=================================================================\n",
            "Total params: 291,818\n",
            "Trainable params: 291,818\n",
            "Non-trainable params: 0\n",
            "_________________________________________________________________\n"
          ],
          "name": "stdout"
        }
      ]
    },
    {
      "cell_type": "code",
      "metadata": {
        "id": "5RfMKgx4Rvh6",
        "colab_type": "code",
        "colab": {
          "base_uri": "https://localhost:8080/",
          "height": 257
        },
        "outputId": "bb26e2ff-92b4-4436-c3da-67d6aa061748"
      },
      "source": [
        "%%time\n",
        "model_1.compile(loss='sparse_categorical_crossentropy', optimizer='adam', metrics=['accuracy'])\n",
        "history = model_1.fit(tf.convert_to_tensor(train_padded), tf.convert_to_tensor(train_label_seq), epochs=5, validation_data=(tf.convert_to_tensor(val_padded), tf.convert_to_tensor(val_label_seq)), verbose=2)"
      ],
      "execution_count": 64,
      "outputs": [
        {
          "output_type": "stream",
          "text": [
            "Train on 901372 samples, validate on 225344 samples\n",
            "Epoch 1/5\n",
            "901372/901372 - 242s - loss: 0.9136 - accuracy: 0.5390 - val_loss: 0.8367 - val_accuracy: 0.6007\n",
            "Epoch 2/5\n",
            "901372/901372 - 238s - loss: 0.8258 - accuracy: 0.6073 - val_loss: 0.8061 - val_accuracy: 0.6215\n",
            "Epoch 3/5\n",
            "901372/901372 - 234s - loss: 0.7936 - accuracy: 0.6297 - val_loss: 0.7941 - val_accuracy: 0.6298\n",
            "Epoch 4/5\n",
            "901372/901372 - 232s - loss: 0.7756 - accuracy: 0.6414 - val_loss: 0.7829 - val_accuracy: 0.6376\n",
            "Epoch 5/5\n",
            "901372/901372 - 227s - loss: 0.7638 - accuracy: 0.6482 - val_loss: 0.7776 - val_accuracy: 0.6399\n",
            "CPU times: user 30min 7s, sys: 3min 37s, total: 33min 45s\n",
            "Wall time: 19min 33s\n"
          ],
          "name": "stdout"
        }
      ]
    },
    {
      "cell_type": "code",
      "metadata": {
        "id": "vVBT2l2DtOzn",
        "colab_type": "code",
        "colab": {
          "base_uri": "https://localhost:8080/",
          "height": 591
        },
        "outputId": "83f4cecc-944a-4f76-94b0-fbb101bc11c2"
      },
      "source": [
        "# list all data in history\n",
        "print(history.history.keys())\n",
        "# summarize history for accuracy\n",
        "plt.plot(history.history['accuracy'])\n",
        "plt.plot(history.history['val_accuracy'])\n",
        "plt.title('model accuracy')\n",
        "plt.ylabel('accuracy')\n",
        "plt.xlabel('epoch')\n",
        "plt.legend(['train', 'test'], loc='upper left')\n",
        "plt.show()\n",
        "# summarize history for loss\n",
        "plt.plot(history.history['loss'])\n",
        "plt.plot(history.history['val_loss'])\n",
        "plt.title('model loss')\n",
        "plt.ylabel('loss')\n",
        "plt.xlabel('epoch')\n",
        "plt.legend(['train', 'test'], loc='upper left')\n",
        "plt.show()"
      ],
      "execution_count": 65,
      "outputs": [
        {
          "output_type": "stream",
          "text": [
            "dict_keys(['loss', 'accuracy', 'val_loss', 'val_accuracy'])\n"
          ],
          "name": "stdout"
        },
        {
          "output_type": "display_data",
          "data": {
            "image/png": "[encoded data removed]",
            "text/plain": [
              "<Figure size 432x288 with 1 Axes>"
            ]
          },
          "metadata": {
            "tags": []
          }
        },
        {
          "output_type": "display_data",
          "data": {
            "image/png": "[encoded data removed]",
            "text/plain": [
              "<Figure size 432x288 with 1 Axes>"
            ]
          },
          "metadata": {
            "tags": []
          }
        }
      ]
    },
    {
      "cell_type": "markdown",
      "metadata": {
        "id": "qrNm-85NgJ3w",
        "colab_type": "text"
      },
      "source": [
        "this time we have 5 epochs. The overfitting pattern still exist. "
      ]
    },
    {
      "cell_type": "markdown",
      "metadata": {
        "id": "sCHs71UsYaAF",
        "colab_type": "text"
      },
      "source": [
        "### Model_2\n",
        "\n",
        "Now we try another variation of our model. We changed the LSTM layer to a bidirectional one. \n",
        "\n",
        "Add one more dense layer and add drop out after embedding, bidirectional and the dense layers (not the classification layer)"
      ]
    },
    {
      "cell_type": "code",
      "metadata": {
        "id": "7k1k0QyAKY6B",
        "colab_type": "code",
        "colab": {
          "base_uri": "https://localhost:8080/",
          "height": 572
        },
        "outputId": "655e9e62-3eda-45e1-f6b3-a7851e95734e"
      },
      "source": [
        "model_2 = tf.keras.Sequential([\n",
        "    tf.keras.layers.Embedding(vocab_size, embedding_dim),\n",
        "    tf.keras.layers.Dropout(0.2),\n",
        "    tf.keras.layers.Conv1D(64, 5, activation='relu'),\n",
        "    tf.keras.layers.MaxPool1D(pool_size=4),\n",
        "    tf.keras.layers.Bidirectional(tf.keras.layers.LSTM(embedding_dim)),\n",
        "    tf.keras.layers.Dropout(0.5),\n",
        "    tf.keras.layers.Dense(embedding_dim, activation='relu'),\n",
        "    tf.keras.layers.Dropout(0.5),\n",
        "    tf.keras.layers.Dense(32, activation='relu'),\n",
        "    tf.keras.layers.Dropout(0.2),\n",
        "    tf.keras.layers.Dense(4, activation='softmax')\n",
        "])\n",
        "model_2.summary()"
      ],
      "execution_count": 60,
      "outputs": [
        {
          "output_type": "stream",
          "text": [
            "Model: \"sequential_3\"\n",
            "_________________________________________________________________\n",
            "Layer (type)                 Output Shape              Param #   \n",
            "=================================================================\n",
            "embedding_3 (Embedding)      (None, None, 50)          250000    \n",
            "_________________________________________________________________\n",
            "dropout_2 (Dropout)          (None, None, 50)          0         \n",
            "_________________________________________________________________\n",
            "conv1d_2 (Conv1D)            (None, None, 64)          16064     \n",
            "_________________________________________________________________\n",
            "max_pooling1d_2 (MaxPooling1 (None, None, 64)          0         \n",
            "_________________________________________________________________\n",
            "bidirectional_1 (Bidirection (None, 100)               46000     \n",
            "_________________________________________________________________\n",
            "dropout_3 (Dropout)          (None, 100)               0         \n",
            "_________________________________________________________________\n",
            "dense_6 (Dense)              (None, 50)                5050      \n",
            "_________________________________________________________________\n",
            "dropout_4 (Dropout)          (None, 50)                0         \n",
            "_________________________________________________________________\n",
            "dense_7 (Dense)              (None, 32)                1632      \n",
            "_________________________________________________________________\n",
            "dropout_5 (Dropout)          (None, 32)                0         \n",
            "_________________________________________________________________\n",
            "dense_8 (Dense)              (None, 4)                 132       \n",
            "=================================================================\n",
            "Total params: 318,878\n",
            "Trainable params: 318,878\n",
            "Non-trainable params: 0\n",
            "_________________________________________________________________\n"
          ],
          "name": "stdout"
        }
      ]
    },
    {
      "cell_type": "code",
      "metadata": {
        "id": "547zxDe_B68f",
        "colab_type": "code",
        "colab": {
          "base_uri": "https://localhost:8080/",
          "height": 257
        },
        "outputId": "5bce1a54-65e3-48e7-b79b-585fc8441da6"
      },
      "source": [
        "%%time\n",
        "model_2.compile(loss='sparse_categorical_crossentropy', optimizer='adam', metrics=['accuracy'])\n",
        "history = model_2.fit(tf.convert_to_tensor(train_padded), tf.convert_to_tensor(train_label_seq), epochs=5, validation_data=(tf.convert_to_tensor(val_padded), tf.convert_to_tensor(val_label_seq)), verbose=2)"
      ],
      "execution_count": 66,
      "outputs": [
        {
          "output_type": "stream",
          "text": [
            "Train on 901372 samples, validate on 225344 samples\n",
            "Epoch 1/5\n",
            "901372/901372 - 320s - loss: 0.9064 - accuracy: 0.5498 - val_loss: 0.8420 - val_accuracy: 0.5952\n",
            "Epoch 2/5\n",
            "901372/901372 - 318s - loss: 0.8476 - accuracy: 0.5981 - val_loss: 0.8316 - val_accuracy: 0.6055\n",
            "Epoch 3/5\n",
            "901372/901372 - 319s - loss: 0.8261 - accuracy: 0.6141 - val_loss: 0.8084 - val_accuracy: 0.6235\n",
            "Epoch 4/5\n",
            "901372/901372 - 318s - loss: 0.8111 - accuracy: 0.6250 - val_loss: 0.8007 - val_accuracy: 0.6291\n",
            "Epoch 5/5\n",
            "901372/901372 - 317s - loss: 0.8006 - accuracy: 0.6319 - val_loss: 0.7924 - val_accuracy: 0.6336\n",
            "CPU times: user 40min 19s, sys: 5min 29s, total: 45min 48s\n",
            "Wall time: 26min 31s\n"
          ],
          "name": "stdout"
        }
      ]
    },
    {
      "cell_type": "code",
      "metadata": {
        "id": "6KbTko2BtNdJ",
        "colab_type": "code",
        "colab": {
          "base_uri": "https://localhost:8080/",
          "height": 591
        },
        "outputId": "d9895134-330c-49ab-86c6-407c68cff258"
      },
      "source": [
        "# list all data in history\n",
        "print(history.history.keys())\n",
        "# summarize history for accuracy\n",
        "plt.plot(history.history['accuracy'])\n",
        "plt.plot(history.history['val_accuracy'])\n",
        "plt.title('model accuracy')\n",
        "plt.ylabel('accuracy')\n",
        "plt.xlabel('epoch')\n",
        "plt.legend(['train', 'test'], loc='upper left')\n",
        "plt.show()\n",
        "# summarize history for loss\n",
        "plt.plot(history.history['loss'])\n",
        "plt.plot(history.history['val_loss'])\n",
        "plt.title('model loss')\n",
        "plt.ylabel('loss')\n",
        "plt.xlabel('epoch')\n",
        "plt.legend(['train', 'test'], loc='upper left')\n",
        "plt.show()"
      ],
      "execution_count": 67,
      "outputs": [
        {
          "output_type": "stream",
          "text": [
            "dict_keys(['loss', 'accuracy', 'val_loss', 'val_accuracy'])\n"
          ],
          "name": "stdout"
        },
        {
          "output_type": "display_data",
          "data": {
            "image/png": "[encoded data removed]",
            "text/plain": [
              "<Figure size 432x288 with 1 Axes>"
            ]
          },
          "metadata": {
            "tags": []
          }
        },
        {
          "output_type": "display_data",
          "data": {
            "image/png": "[encoded data removed]",
            "text/plain": [
              "<Figure size 432x288 with 1 Axes>"
            ]
          },
          "metadata": {
            "tags": []
          }
        }
      ]
    },
    {
      "cell_type": "markdown",
      "metadata": {
        "id": "Marpv9RDmgRr",
        "colab_type": "text"
      },
      "source": [
        "We see some fluctuations and unstability in the accuracy and loss graphs. The overfitting patter is still there. Seems like adding more parameter points didn't help the final result. "
      ]
    },
    {
      "cell_type": "markdown",
      "metadata": {
        "id": "VM6NCRcBROBD",
        "colab_type": "text"
      },
      "source": [
        "## Model_3\n",
        "\n",
        "In this model we include \"weight normalization\", \"Drop out\", \"Batch Normalization\""
      ]
    },
    {
      "cell_type": "markdown",
      "metadata": {
        "id": "sin84sXooK0W",
        "colab_type": "text"
      },
      "source": [
        "### Prepare the pretrained embedding layer"
      ]
    },
    {
      "cell_type": "code",
      "metadata": {
        "id": "z7fmVYdsU_Dd",
        "colab_type": "code",
        "colab": {
          "resources": {
            "http://localhost:8080/nbextensions/google.colab/files.js": {
              "data": "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",
              "ok": true,
              "headers": [
                [
                  "content-type",
                  "application/javascript"
                ]
              ],
              "status": 200,
              "status_text": "OK"
            }
          },
          "base_uri": "https://localhost:8080/",
          "height": 114
        },
        "outputId": "cd6f0105-4495-4d48-a0cd-9a17b63e091c"
      },
      "source": [
        "%%time\n",
        "from google.colab import files\n",
        "uploaded = files.upload()"
      ],
      "execution_count": 68,
      "outputs": [
        {
          "output_type": "display_data",
          "data": {
            "text/html": [
              "\n",
              "     <input type=\"file\" id=\"files-c0f0e179-c30f-4172-ad66-e52f06343a0d\" name=\"files[]\" multiple disabled />\n",
              "     <output id=\"result-c0f0e179-c30f-4172-ad66-e52f06343a0d\">\n",
              "      Upload widget is only available when the cell has been executed in the\n",
              "      current browser session. Please rerun this cell to enable.\n",
              "      </output>\n",
              "      <script src=\"/nbextensions/google.colab/files.js\"></script> "
            ],
            "text/plain": [
              "<IPython.core.display.HTML object>"
            ]
          },
          "metadata": {
            "tags": []
          }
        },
        {
          "output_type": "stream",
          "text": [
            "Saving glove.6B.50d.txt to glove.6B.50d.txt\n",
            "CPU times: user 1min 3s, sys: 3.74 s, total: 1min 6s\n",
            "Wall time: 42min 36s\n"
          ],
          "name": "stdout"
        }
      ]
    },
    {
      "cell_type": "code",
      "metadata": {
        "id": "Ve63PG2tM8-X",
        "colab_type": "code",
        "colab": {
          "base_uri": "https://localhost:8080/",
          "height": 72
        },
        "outputId": "be016570-825c-4d3b-a68f-d3ce3de77f61"
      },
      "source": [
        "%%time\n",
        "embeddings_index = {}\n",
        "f = open('glove.6B.50d.txt')\n",
        "for line in f:\n",
        "    values = line.split(' ')\n",
        "    word = values[0] ## The first entry is the word\n",
        "    coefs = np.asarray(values[1:], dtype='float32') ## These are the vecotrs representing the embedding for the word\n",
        "    embeddings_index[word] = coefs\n",
        "f.close()\n",
        "\n",
        "print('GloVe data loaded')"
      ],
      "execution_count": 69,
      "outputs": [
        {
          "output_type": "stream",
          "text": [
            "GloVe data loaded\n",
            "CPU times: user 5.84 s, sys: 61.5 ms, total: 5.9 s\n",
            "Wall time: 5.88 s\n"
          ],
          "name": "stdout"
        }
      ]
    },
    {
      "cell_type": "code",
      "metadata": {
        "id": "ukQZTCiLjwsr",
        "colab_type": "code",
        "colab": {}
      },
      "source": [
        "embedding_matrix = np.zeros((vocab_size, 50))\n",
        "for word, index in word_index_train.items():\n",
        "    if index > vocab_size - 1:\n",
        "        break\n",
        "    else:\n",
        "        embedding_vector = embeddings_index.get(word)\n",
        "        if embedding_vector is not None:\n",
        "            embedding_matrix[index] = embedding_vector"
      ],
      "execution_count": 0,
      "outputs": []
    },
    {
      "cell_type": "code",
      "metadata": {
        "id": "2GMq1xGA17n7",
        "colab_type": "code",
        "colab": {
          "base_uri": "https://localhost:8080/",
          "height": 35
        },
        "outputId": "2038be51-9a41-45bc-e244-5b25794fefe8"
      },
      "source": [
        "len(embedding_matrix)"
      ],
      "execution_count": 72,
      "outputs": [
        {
          "output_type": "execute_result",
          "data": {
            "text/plain": [
              "5000"
            ]
          },
          "metadata": {
            "tags": []
          },
          "execution_count": 72
        }
      ]
    },
    {
      "cell_type": "code",
      "metadata": {
        "id": "FpitoSGOjg2E",
        "colab_type": "code",
        "colab": {
          "base_uri": "https://localhost:8080/",
          "height": 608
        },
        "outputId": "f1bb3f9b-cd2a-4dcc-c987-a372a3f021df"
      },
      "source": [
        "%%time\n",
        "model_3 = tf.keras.Sequential([\n",
        "    tf.keras.layers.Embedding(vocab_size, embedding_dim, weights=[embedding_matrix], trainable=True),\n",
        "    tf.keras.layers.Dropout(0.2),\n",
        "    tf.keras.layers.Conv1D(64, 5, activation='relu', kernel_regularizer=regularizers.l2(0.001)),\n",
        "    tf.keras.layers.BatchNormalization(), \n",
        "    tf.keras.layers.MaxPool1D(pool_size=4),\n",
        "    tf.keras.layers.Bidirectional(tf.keras.layers.LSTM(embedding_dim, kernel_regularizer=regularizers.l2(0.001))),\n",
        "    tf.keras.layers.Dropout(0.5),\n",
        "    tf.keras.layers.Dense(16, activation='relu', kernel_regularizer=regularizers.l2(0.001)),\n",
        "    tf.keras.layers.BatchNormalization(), \n",
        "    tf.keras.layers.Dropout(0.5),\n",
        "    tf.keras.layers.Dense(4, activation='softmax')\n",
        "])\n",
        "model_3.summary()"
      ],
      "execution_count": 73,
      "outputs": [
        {
          "output_type": "stream",
          "text": [
            "Model: \"sequential_4\"\n",
            "_________________________________________________________________\n",
            "Layer (type)                 Output Shape              Param #   \n",
            "=================================================================\n",
            "embedding_4 (Embedding)      (None, None, 50)          250000    \n",
            "_________________________________________________________________\n",
            "dropout_6 (Dropout)          (None, None, 50)          0         \n",
            "_________________________________________________________________\n",
            "conv1d_3 (Conv1D)            (None, None, 64)          16064     \n",
            "_________________________________________________________________\n",
            "batch_normalization (BatchNo (None, None, 64)          256       \n",
            "_________________________________________________________________\n",
            "max_pooling1d_3 (MaxPooling1 (None, None, 64)          0         \n",
            "_________________________________________________________________\n",
            "bidirectional_2 (Bidirection (None, 100)               46000     \n",
            "_________________________________________________________________\n",
            "dropout_7 (Dropout)          (None, 100)               0         \n",
            "_________________________________________________________________\n",
            "dense_9 (Dense)              (None, 16)                1616      \n",
            "_________________________________________________________________\n",
            "batch_normalization_1 (Batch (None, 16)                64        \n",
            "_________________________________________________________________\n",
            "dropout_8 (Dropout)          (None, 16)                0         \n",
            "_________________________________________________________________\n",
            "dense_10 (Dense)             (None, 4)                 68        \n",
            "=================================================================\n",
            "Total params: 314,068\n",
            "Trainable params: 313,908\n",
            "Non-trainable params: 160\n",
            "_________________________________________________________________\n",
            "CPU times: user 563 ms, sys: 467 µs, total: 564 ms\n",
            "Wall time: 553 ms\n"
          ],
          "name": "stdout"
        }
      ]
    },
    {
      "cell_type": "code",
      "metadata": {
        "id": "wcqkV3f2mrRf",
        "colab_type": "code",
        "colab": {
          "base_uri": "https://localhost:8080/",
          "height": 109
        },
        "outputId": "be016440-1fc1-403e-f09e-66674c9c07e9"
      },
      "source": [
        "model_3.compile(loss='sparse_categorical_crossentropy', optimizer='adam', metrics=['accuracy'])\n",
        "history = model_3.fit(tf.convert_to_tensor(train_padded), tf.convert_to_tensor(train_label_seq), epochs=2, validation_data=(tf.convert_to_tensor(val_padded), tf.convert_to_tensor(val_label_seq)), verbose=2)"
      ],
      "execution_count": 74,
      "outputs": [
        {
          "output_type": "stream",
          "text": [
            "Train on 901372 samples, validate on 225344 samples\n",
            "Epoch 1/2\n",
            "901372/901372 - 369s - loss: 1.0137 - accuracy: 0.4676 - val_loss: 0.9255 - val_accuracy: 0.5390\n",
            "Epoch 2/2\n",
            "901372/901372 - 355s - loss: 0.9267 - accuracy: 0.5587 - val_loss: 0.8886 - val_accuracy: 0.5723\n"
          ],
          "name": "stdout"
        }
      ]
    },
    {
      "cell_type": "code",
      "metadata": {
        "id": "OCiWoBFIGnsv",
        "colab_type": "code",
        "colab": {
          "base_uri": "https://localhost:8080/",
          "height": 591
        },
        "outputId": "b6c98b41-d5e5-4b48-9126-af64a212be7c"
      },
      "source": [
        "# list all data in history\n",
        "print(history.history.keys())\n",
        "# summarize history for accuracy\n",
        "plt.plot(history.history['accuracy'])\n",
        "plt.plot(history.history['val_accuracy'])\n",
        "plt.title('model accuracy')\n",
        "plt.ylabel('accuracy')\n",
        "plt.xlabel('epoch')\n",
        "plt.legend(['train', 'test'], loc='upper left')\n",
        "plt.show()\n",
        "# summarize history for loss\n",
        "plt.plot(history.history['loss'])\n",
        "plt.plot(history.history['val_loss'])\n",
        "plt.title('model loss')\n",
        "plt.ylabel('loss')\n",
        "plt.xlabel('epoch')\n",
        "plt.legend(['train', 'test'], loc='upper left')\n",
        "plt.show()"
      ],
      "execution_count": 75,
      "outputs": [
        {
          "output_type": "stream",
          "text": [
            "dict_keys(['loss', 'accuracy', 'val_loss', 'val_accuracy'])\n"
          ],
          "name": "stdout"
        },
        {
          "output_type": "display_data",
          "data": {
            "image/png": "[encoded data removed]",
            "text/plain": [
              "<Figure size 432x288 with 1 Axes>"
            ]
          },
          "metadata": {
            "tags": []
          }
        },
        {
          "output_type": "display_data",
          "data": {
            "image/png": "[encoded data removed]",
            "text/plain": [
              "<Figure size 432x288 with 1 Axes>"
            ]
          },
          "metadata": {
            "tags": []
          }
        }
      ]
    },
    {
      "cell_type": "markdown",
      "metadata": {
        "id": "3MGoaWY4en3U",
        "colab_type": "text"
      },
      "source": [
        "# Refrences \n",
        "- https://towardsdatascience.com/multi-class-text-classification-model-comparison-and-selection-5eb066197568\n",
        "- https://stackoverflow.com/questions/41908379/keras-plot-training-validation-and-test-set-accuracy\n",
        "- https://machinelearningmastery.com/dropout-for-regularizing-deep-neural-networks/\n",
        "- https://www.tensorflow.org/tutorials/keras/overfit_and_underfit\n",
        "- https://www.tensorflow.org/api_docs/python/tf/keras/Model\n",
        "- https://stats.stackexchange.com/questions/122409/why-downsample\n",
        "- https://machinelearningmastery.com/batch-normalization-for-training-of-deep-neural-networks/\n",
        "- https://towardsdatascience.com/data-augmentation-in-nlp-2801a34dfc28\n",
        "- https://towardsdatascience.com/these-are-the-easiest-data-augmentation-techniques-in-natural-language-processing-you-can-think-of-88e393fd610"
      ]
    }
  ]
}