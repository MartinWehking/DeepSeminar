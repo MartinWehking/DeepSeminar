{
  "nbformat": 4,
  "nbformat_minor": 0,
  "metadata": {
    "colab": {
      "name": "Hansard.ipynb",
      "provenance": [],
      "collapsed_sections": [],
      "toc_visible": true,
      "machine_shape": "hm"
    },
    "kernelspec": {
      "name": "python3",
      "display_name": "Python 3"
    },
    "accelerator": "GPU"
  },
  "cells": [
    {
      "cell_type": "markdown",
      "metadata": {
        "id": "bzZTiNFHFQYZ",
        "colab_type": "text"
      },
      "source": [
        "# Hansard Text Generation\n",
        "\n",
        "**Goal:** \\\\\n",
        "We want to generate texts for partys with fewer speeches in our small dataset.\n",
        "This way we could augment our dataset so that we can use our text generator to generate speeches with positive and negative stances towards motions. Therefore we want to make use of **transfer learning** in order to train our generators on a bigger dataset and use the weights later to continue training on the smaller one.\n",
        "\n",
        "**Update** \\\\\n",
        "Unfortunately, there was not enough time to do transfer learning. Although, we were able to generate speeches and compare different language models for that task. \n",
        "\n",
        "\n",
        "First things first: We import all packages that we need for our project. \\\\\n",
        "**Notice** \\\\\n",
        " The imports include *Google Colab* imports.\n",
        "On a 'normal' system these lines can simply be removed.\n"
      ]
    },
    {
      "cell_type": "code",
      "metadata": {
        "id": "6aDFYOCnI2ht",
        "colab_type": "code",
        "outputId": "11f99cde-f967-4705-a3fd-107443311042",
        "colab": {
          "base_uri": "https://localhost:8080/",
          "height": 195
        }
      },
      "source": [
        "%tensorflow_version 2.x\n",
        "import numpy as np\n",
        "import tensorflow as tf\n",
        "import os\n",
        "from __future__ import absolute_import, division, print_function, unicode_literals\n",
        "import time\n",
        "import nltk\n",
        "import warnings\n",
        "import re\n",
        "import nltk\n",
        "import nltk.data\n",
        "nltk.download('punkt')\n",
        "import pandas as pd\n",
        "import seaborn as sns\n",
        "from sklearn.svm import SVC\n",
        "import matplotlib.pyplot as plt\n",
        "from wordcloud import WordCloud\n",
        "from nltk.corpus import stopwords\n",
        "from nltk import pos_tag, word_tokenize\n",
        "from tensorflow.keras.models import Model\n",
        "from scipy.sparse import csr_matrix, hstack\n",
        "from tensorflow.keras.utils import plot_model\n",
        "from keras.preprocessing.text import Tokenizer\n",
        "from keras.wrappers.scikit_learn import KerasClassifier\n",
        "from tensorflow.keras.preprocessing.sequence import pad_sequences\n",
        "from sklearn.feature_extraction.text import TfidfVectorizer, CountVectorizer\n",
        "from sklearn.model_selection import train_test_split, cross_val_score, GridSearchCV\n",
        "from sklearn.metrics import confusion_matrix, f1_score, roc_auc_score, roc_curve, auc, make_scorer, precision_score, recall_score, accuracy_score \n",
        "from tensorflow.keras.layers import Input, Dense, Flatten, Dropout, BatchNormalization, Embedding, concatenate, Conv1D, MaxPooling1D, LSTM, Bidirectional\n",
        "\n",
        "\n",
        "# Only needed if Google Colab is used\n",
        "from google.colab import drive \n",
        "drive.mount('/content/gdrive')"
      ],
      "execution_count": 0,
      "outputs": [
        {
          "output_type": "stream",
          "text": [
            "TensorFlow 2.x selected.\n",
            "[nltk_data] Downloading package punkt to /root/nltk_data...\n",
            "[nltk_data]   Unzipping tokenizers/punkt.zip.\n"
          ],
          "name": "stdout"
        },
        {
          "output_type": "stream",
          "text": [
            "Using TensorFlow backend.\n"
          ],
          "name": "stderr"
        },
        {
          "output_type": "stream",
          "text": [
            "Go to this URL in a browser: https://accounts.google.com/o/oauth2/auth?client_id=947318989803-6bn6qk8qdgf4n4g3pfee6491hc0brc4i.apps.googleusercontent.com&redirect_uri=urn%3aietf%3awg%3aoauth%3a2.0%3aoob&response_type=code&scope=email%20https%3a%2f%2fwww.googleapis.com%2fauth%2fdocs.test%20https%3a%2f%2fwww.googleapis.com%2fauth%2fdrive%20https%3a%2f%2fwww.googleapis.com%2fauth%2fdrive.photos.readonly%20https%3a%2f%2fwww.googleapis.com%2fauth%2fpeopleapi.readonly\n",
            "\n",
            "Enter your authorization code:\n",
            "··········\n",
            "Mounted at /content/gdrive\n"
          ],
          "name": "stdout"
        }
      ]
    },
    {
      "cell_type": "markdown",
      "metadata": {
        "id": "QIJo5CrHJsvf",
        "colab_type": "text"
      },
      "source": [
        "\n",
        "## Preparing the [Data Set](https://evanodell.com/projects/datasets/hansard-data/)"
      ]
    },
    {
      "cell_type": "markdown",
      "metadata": {
        "id": "6pu-MPfLp4mu",
        "colab_type": "text"
      },
      "source": [
        "The dataset contains speeches in the **House of Commons** from 1979 - 2018.\n",
        "[Hansard](https://hansard.parliament.uk/) is the official report of all parliamentary debates. Speeches, bills etc. can be simply retrieved from the website. The dataset which we use was created and made public by Evan Odell in 2019. "
      ]
    },
    {
      "cell_type": "code",
      "metadata": {
        "id": "vY8xs9V8JvKR",
        "colab_type": "code",
        "outputId": "7c0e16ca-cab6-461d-c869-f371786c4d12",
        "colab": {
          "base_uri": "https://localhost:8080/",
          "height": 52
        }
      },
      "source": [
        "dataset =  pd.read_csv(\"gdrive/My Drive/Hansard/data/hansard7918.csv\")"
      ],
      "execution_count": 0,
      "outputs": [
        {
          "output_type": "stream",
          "text": [
            "/usr/local/lib/python3.6/dist-packages/IPython/core/interactiveshell.py:2718: DtypeWarning: Columns (2,7,9,22,23,24,26) have mixed types. Specify dtype option on import or set low_memory=False.\n",
            "  interactivity=interactivity, compiler=compiler, result=result)\n"
          ],
          "name": "stderr"
        }
      ]
    },
    {
      "cell_type": "markdown",
      "metadata": {
        "id": "dVZbsxuTKaKS",
        "colab_type": "text"
      },
      "source": [
        "We only take speeches from **1997** onwards and for simplicity, speeches from the **Scottish National Party**. Some brackets randomly occured in the dataset. We simply removed those."
      ]
    },
    {
      "cell_type": "code",
      "metadata": {
        "id": "-0HZr4CfKbk4",
        "colab_type": "code",
        "colab": {}
      },
      "source": [
        "# Only speeches from 1997 onwards\n",
        "sub_dataset = dataset[(dataset['party_group'] == 'SNP') & (dataset['year'] >= 1997)]\n",
        "# Remove new lines\n",
        "#sub_set = sub_dataset['speech'].str.replace(regex, '')\n",
        "\n",
        "# hon -> honorable due to sentence segmentation later\n",
        "sub_set = sub_dataset['speech'].str.replace('hon.', 'honorable')\n",
        "\n",
        "# Remove random brackets\n",
        "sub_set = sub_set.str.replace(')', '')\n",
        "sub_set = sub_set.str.replace('(', '')\n",
        "# Add new lines after each speech\n",
        "speeches = sub_set.astype(str) + '\\n'\n",
        "\n",
        "text = \"\".join(speeches)"
      ],
      "execution_count": 0,
      "outputs": []
    },
    {
      "cell_type": "markdown",
      "metadata": {
        "id": "T4a4niKuTTxD",
        "colab_type": "text"
      },
      "source": [
        "### Statistics"
      ]
    },
    {
      "cell_type": "code",
      "metadata": {
        "id": "wWTOgHH_TZco",
        "colab_type": "code",
        "outputId": "85431877-efae-407b-a910-3539f5d37fa6",
        "colab": {
          "base_uri": "https://localhost:8080/",
          "height": 328
        }
      },
      "source": [
        "import nltk\n",
        "nltk.download('punkt')\n",
        "from nltk.probability import FreqDist\n",
        "fdist = FreqDist(word.lower() for word in word_tokenize(text))\n",
        "fdist.plot(20)"
      ],
      "execution_count": 0,
      "outputs": [
        {
          "output_type": "stream",
          "text": [
            "[nltk_data] Downloading package punkt to /root/nltk_data...\n",
            "[nltk_data]   Package punkt is already up-to-date!\n"
          ],
          "name": "stdout"
        },
        {
          "output_type": "display_data",
          "data": {
            "image/png": "[encoded data removed]",
            "text/plain": [
              "<Figure size 432x288 with 1 Axes>"
            ]
          },
          "metadata": {
            "tags": []
          }
        }
      ]
    },
    {
      "cell_type": "code",
      "metadata": {
        "id": "g5rzAkRFRrPY",
        "colab_type": "code",
        "outputId": "3ad3657a-1a80-4117-db67-459a215b1024",
        "colab": {
          "base_uri": "https://localhost:8080/",
          "height": 52
        }
      },
      "source": [
        "print(\"Number of words: \"+str(len(fdist)))\n",
        "print(\"Number of characters: \"+str(len(text)))"
      ],
      "execution_count": 0,
      "outputs": [
        {
          "output_type": "stream",
          "text": [
            "Number of words: 64436\n",
            "Number of characters: 22553797\n"
          ],
          "name": "stdout"
        }
      ]
    },
    {
      "cell_type": "markdown",
      "metadata": {
        "id": "Uh9CIO-XTb-f",
        "colab_type": "text"
      },
      "source": [
        "# Language Models"
      ]
    },
    {
      "cell_type": "markdown",
      "metadata": {
        "id": "jExVLRUYsgXJ",
        "colab_type": "text"
      },
      "source": [
        "We create Language Models in order to generate speeches. A language model has the advantage that it is trained to learn a conditional probability distribuition of characters/words (We refer to both as 'token') based on the frequency in the dataset. It hereby decides which token to output by the previous tokens."
      ]
    },
    {
      "cell_type": "markdown",
      "metadata": {
        "id": "-Anir94LZ0cO",
        "colab_type": "text"
      },
      "source": [
        "### Loss and Perplexity"
      ]
    },
    {
      "cell_type": "markdown",
      "metadata": {
        "id": "viqdxy8Vncqd",
        "colab_type": "text"
      },
      "source": [
        "We calculate loss and perplexity on our test set after training.\n",
        "Perplexity calculation is simple in the end. \\\\\n",
        "The equation can be found [here](https://stackoverflow.com/questions/41881308/how-to-calculate-perplexity-of-rnn-in-tensorflow) for instance.\n"
      ]
    },
    {
      "cell_type": "code",
      "metadata": {
        "id": "r3pssvd9ZzEL",
        "colab_type": "code",
        "colab": {}
      },
      "source": [
        "def get_final_loss(model, data):\n",
        "  print('Testing:')\n",
        "  out = model.evaluate(data)\n",
        "  train_perplexity = tf.exp(out)\n",
        "  print('Test Loss: '+ str(out))\n",
        "  print('Perplexity: '+str(train_perplexity.numpy()))"
      ],
      "execution_count": 0,
      "outputs": []
    },
    {
      "cell_type": "markdown",
      "metadata": {
        "id": "K8C188qGMapP",
        "colab_type": "text"
      },
      "source": [
        "## Character Based Language Model"
      ]
    },
    {
      "cell_type": "markdown",
      "metadata": {
        "id": "1GJgfgHrrujr",
        "colab_type": "text"
      },
      "source": [
        "A character based language model receives as input a sequence of characters and tries to predict the next following characters.\n",
        "Our data is mapped to ID's which we use to identify specific characters. Each character receives its own unique ID. This makes it possible to perform computations with our character based language models."
      ]
    },
    {
      "cell_type": "code",
      "metadata": {
        "id": "dMTsUcH-MnH9",
        "colab_type": "code",
        "outputId": "c8211f52-bffe-44df-9c85-7ca9642cdcfe",
        "colab": {
          "base_uri": "https://localhost:8080/",
          "height": 55
        }
      },
      "source": [
        "char_vocab = set(text)\n",
        "\n",
        "char2idx = {u: i for i, u in enumerate(char_vocab)}\n",
        "idx2char = np.array(list(char_vocab))\n",
        "\n",
        "text_as_int = np.array([char2idx[c] for c in text])"
      ],
      "execution_count": 0,
      "outputs": [
        {
          "output_type": "stream",
          "text": [
            "{'h', 'k', 'K', 'ò', 's', '3', 'Ö', 'Ó', '/', '\\xa0', '0', 'F', 'ù', '7', 'x', '@', '&', 'O', 'M', '—', 'ä', 'ë', 'u', '…', 'w', 'ø', '\"', '°', '4', 'm', '’', 'd', 'J', 'E', 'C', 'ï', ',', 'Ù', '9', 'ç', ' ', 'ó', 'ć', 'ž', 'r', 'o', 'g', 'z', 'Z', 'v', 'q', 'ê', '#', 'É', 't', 'U', '.', 'D', 'R', \"'\", '1', 'ô', 'S', 'p', 'è', 'y', 'Q', '“', ':', 'í', '£', '-', 'N', 'j', 'á', 'T', 'Y', '5', 'e', 'ã', 'G', '$', '€', '\\u200b', '”', 'b', '*', '–', '‘', ';', '8', 'A', 'I', '%', 'î', 'a', 'à', '?', 'L', '\\n', 'P', 'X', 'ö', 'ü', 'c', 'i', '2', 'š', 'é', '6', '\\\\', 'B', 'W', '!', '+', ']', 'â', 'H', 'V', 'n', 'l', '`', '_', 'f'}\n"
          ],
          "name": "stdout"
        }
      ]
    },
    {
      "cell_type": "markdown",
      "metadata": {
        "id": "gZakHiyESelU",
        "colab_type": "text"
      },
      "source": [
        "The dataset preparation for our character based models is done as follows: We create input sequences that consist of all characters except the last one. Similarly the target sentences consist of all characters except the first one."
      ]
    },
    {
      "cell_type": "markdown",
      "metadata": {
        "id": "EFN7Pecpw0nC",
        "colab_type": "text"
      },
      "source": [
        "### Train and Test Set Splitting"
      ]
    },
    {
      "cell_type": "markdown",
      "metadata": {
        "id": "K3IznQZ2M9Jv",
        "colab_type": "text"
      },
      "source": [
        "**Hyperparameters:**  \n",
        "\n",
        "*   Batch size: *Number of elements in one iteration (number of rows in matrix)*\n",
        "*   Buffer size: *Parameter for shuffeling the data (needed for TF2)*\n",
        "*   Train_Test_Split: *The number of samples (in %) from the dataset used for training. The rest is used during testing*\n",
        "*   Sequence length: *Number of tokens fed into the model (one sample)*\n",
        "\n"
      ]
    },
    {
      "cell_type": "code",
      "metadata": {
        "id": "QJ5CiX32xHNA",
        "colab_type": "code",
        "colab": {}
      },
      "source": [
        "BATCH_SIZE = 2048\n",
        "BUFFER_SIZE = 10000\n",
        "seq_length = 70"
      ],
      "execution_count": 0,
      "outputs": []
    },
    {
      "cell_type": "code",
      "metadata": {
        "id": "EO14kRWASfIv",
        "colab_type": "code",
        "outputId": "e4b4f04e-d664-48bf-eed3-326951e98807",
        "colab": {
          "base_uri": "https://localhost:8080/",
          "height": 52
        }
      },
      "source": [
        "import pandas as pd\n",
        "examples_per_epoch = len(text)\n",
        "\n",
        "char_dataset = tf.data.Dataset.from_tensor_slices(text_as_int)\n",
        "\n",
        "sequences = char_dataset.batch(seq_length + 1, drop_remainder=True)\n",
        "\n",
        "\n",
        "def split_input_target(chunk):\n",
        "    input_text = chunk[:-1]\n",
        "    target_text = chunk[1:]\n",
        "    return input_text, target_text\n",
        "\n",
        "\n",
        "dataset = sequences.map(split_input_target)\n",
        "\n",
        "len_dataset = tf.data.experimental.cardinality(dataset)\n",
        "train_test_split = int(3 * len_dataset/4)\n",
        "\n",
        "train_dataset = dataset.take(train_test_split)\n",
        "test_dataset = dataset.skip(train_test_split)\n",
        "\n",
        "\n",
        "train_dataset = train_dataset.shuffle(BUFFER_SIZE).batch(BATCH_SIZE, \n",
        "                                                         drop_remainder=True)\n",
        "test_dataset = test_dataset.shuffle(BUFFER_SIZE).batch(BATCH_SIZE,\n",
        "                                                       drop_remainder=True)\n",
        "\n",
        "print ('Total Characters: ' + str(len(text)))\n",
        "print (\"Total Vocab: \"+str(len(char_vocab)))"
      ],
      "execution_count": 0,
      "outputs": [
        {
          "output_type": "stream",
          "text": [
            "Total Characters: 22553797\n",
            "Total Vocab: 124\n"
          ],
          "name": "stdout"
        }
      ]
    },
    {
      "cell_type": "markdown",
      "metadata": {
        "id": "Z5WywzKCRXeG",
        "colab_type": "text"
      },
      "source": [
        "### Text Generation Method"
      ]
    },
    {
      "cell_type": "markdown",
      "metadata": {
        "id": "WdkIwjHz0Ilf",
        "colab_type": "text"
      },
      "source": [
        "Our text generation method takes as input a string and generates characters based on that string. As the method is the same for all character based language models, we define it beforehand. Hence, we can reuse simply reuse it."
      ]
    },
    {
      "cell_type": "markdown",
      "metadata": {
        "id": "bb6b2kHl03cM",
        "colab_type": "text"
      },
      "source": [
        "**Hyperparameters:**\n",
        "*   Num_Generate: *Tokens to generate*\n",
        "*   Temperature: *Low temperature leads to more predictable words. High temperature to more surprising text.*\n",
        "\n"
      ]
    },
    {
      "cell_type": "code",
      "metadata": {
        "id": "Uu6UqixtcMmV",
        "colab_type": "code",
        "colab": {}
      },
      "source": [
        "def generate_char_text(model, start_string):\n",
        "    # Evaluation step (generating text using the learned model)\n",
        "\n",
        "    # Number of characters to generate\n",
        "    num_generate = 600\n",
        "\n",
        "    # Converting our start string to numbers (vectorizing)\n",
        "    input_eval = [char2idx[s] for s in start_string]\n",
        "    input_eval = tf.expand_dims(input_eval, 0)\n",
        "\n",
        "    # Empty string to store our results\n",
        "    text_generated = []\n",
        "\n",
        "    # Low temperatures results in more predictable text.\n",
        "    # Higher temperatures results in more surprising text.\n",
        "    # Experiment to find the best setting.\n",
        "    temperature = 0.8\n",
        "\n",
        "    # Here batch size == 1\n",
        "    model.reset_states()\n",
        "    for i in range(num_generate):\n",
        "        predictions = model(input_eval)\n",
        "        # remove the batch dimension\n",
        "        predictions = tf.squeeze(predictions, 0)\n",
        "\n",
        "        # using a categorical distribution to predict the word returned by the model\n",
        "        predictions = predictions / temperature\n",
        "        predicted_id = tf.random.categorical(predictions, num_samples=1)[-1, 0].numpy()\n",
        "\n",
        "        # We pass the predicted word as the next input to the model\n",
        "        # along with the previous hidden state\n",
        "        input_eval = tf.expand_dims([predicted_id], 0)\n",
        "\n",
        "        text_generated.append(idx2char[predicted_id])\n",
        "\n",
        "    return (start_string + ''.join(text_generated))"
      ],
      "execution_count": 0,
      "outputs": []
    },
    {
      "cell_type": "markdown",
      "metadata": {
        "id": "2ND4Abx_IXFO",
        "colab_type": "text"
      },
      "source": [
        "### First Model: GRU"
      ]
    },
    {
      "cell_type": "markdown",
      "metadata": {
        "id": "i9Y_Q_ngU2t4",
        "colab_type": "text"
      },
      "source": [
        "Eventually we can build our first model which is equivalent to the model [here](https://www.tensorflow.org/tutorials/text/text_generation). Our architecture consists of an embedding layer, GRU units and a final dense layer. The number of RNN units and our embedding dimension can be manually specified."
      ]
    },
    {
      "cell_type": "markdown",
      "metadata": {
        "id": "j7w4X0PoaJpy",
        "colab_type": "text"
      },
      "source": [
        "As our training process needs a lot of time, we create checkpoints that we can use as a kind of backup if something goes wrong"
      ]
    },
    {
      "cell_type": "code",
      "metadata": {
        "id": "B3mlMebzaKJR",
        "colab_type": "code",
        "colab": {}
      },
      "source": [
        "# Directory where the checkpoints for the GRU language model will be saved\n",
        "gru_checkpoint_dir = 'gdrive/My Drive/Hansard/GRU/training_checkpoints'\n",
        "# Name of the checkpoint files\n",
        "gru_checkpoint_prefix = os.path.join(gru_checkpoint_dir, \"ckpt_{epoch}\")\n",
        "\n",
        "gru_checkpoint_callback = tf.keras.callbacks.ModelCheckpoint(\n",
        "    filepath=gru_checkpoint_prefix,\n",
        "    save_weights_only=True)"
      ],
      "execution_count": 0,
      "outputs": []
    },
    {
      "cell_type": "code",
      "metadata": {
        "id": "n6aRKRiNNFt9",
        "colab_type": "code",
        "colab": {}
      },
      "source": [
        "# Hyperparameters\n",
        "rnn_units = 1024\n",
        "embedding_dim = 256"
      ],
      "execution_count": 0,
      "outputs": []
    },
    {
      "cell_type": "code",
      "metadata": {
        "id": "BmTkKyhFIOdY",
        "colab_type": "code",
        "outputId": "d4054546-cd2a-411a-eaca-140df03fa8e6",
        "colab": {
          "base_uri": "https://localhost:8080/",
          "height": 455
        }
      },
      "source": [
        "def build_gru_model(vocab_size, embedding_dim, rnn_units, batch_size):\n",
        "    model = tf.keras.Sequential([\n",
        "        tf.keras.layers.Embedding(vocab_size, embedding_dim,\n",
        "                                  batch_input_shape=[batch_size, None]),\n",
        "        tf.keras.layers.GRU(rnn_units,\n",
        "                            return_sequences=True,\n",
        "                            stateful=True,\n",
        "                            recurrent_initializer='glorot_uniform'),\n",
        "        tf.keras.layers.Dense(vocab_size)\n",
        "    ])\n",
        "    return model\n",
        "\n",
        " \n",
        "model = build_gru_model(\n",
        "    vocab_size=len(char_vocab),\n",
        "    embedding_dim=embedding_dim,\n",
        "    rnn_units=rnn_units,\n",
        "    batch_size=BATCH_SIZE)\n",
        "\n",
        "\n",
        "def loss(labels, logits):\n",
        "    return tf.keras.losses.sparse_categorical_crossentropy(labels, logits, from_logits=True)\n",
        "\n",
        "\n",
        "model.compile(optimizer='adam', loss=loss)\n",
        "\n",
        "EPOCHS = 10\n",
        "history = model.fit(train_dataset, epochs=EPOCHS, callbacks=[gru_checkpoint_callback])\n",
        "\n",
        "get_final_loss(model, test_dataset)"
      ],
      "execution_count": 0,
      "outputs": [
        {
          "output_type": "stream",
          "text": [
            "Train for 116 steps\n",
            "Epoch 1/10\n",
            "116/116 [==============================] - 75s 646ms/step - loss: 2.7851\n",
            "Epoch 2/10\n",
            "116/116 [==============================] - 68s 589ms/step - loss: 2.0468\n",
            "Epoch 3/10\n",
            "116/116 [==============================] - 68s 588ms/step - loss: 1.6581\n",
            "Epoch 4/10\n",
            "116/116 [==============================] - 69s 599ms/step - loss: 1.4051\n",
            "Epoch 5/10\n",
            "116/116 [==============================] - 68s 589ms/step - loss: 1.2798\n",
            "Epoch 6/10\n",
            "116/116 [==============================] - 68s 588ms/step - loss: 1.2116\n",
            "Epoch 7/10\n",
            "116/116 [==============================] - 68s 590ms/step - loss: 1.1684\n",
            "Epoch 8/10\n",
            "116/116 [==============================] - 68s 589ms/step - loss: 1.1375\n",
            "Epoch 9/10\n",
            "116/116 [==============================] - 68s 590ms/step - loss: 1.1147\n",
            "Epoch 10/10\n",
            "116/116 [==============================] - 68s 588ms/step - loss: 1.0963\n",
            "Testing:\n",
            "38/38 [==============================] - 35s 931ms/step - loss: 1.1211\n",
            "Test Loss: 1.121060798042699\n",
            "Perplexity: 3.0681071196716365\n"
          ],
          "name": "stdout"
        }
      ]
    },
    {
      "cell_type": "markdown",
      "metadata": {
        "id": "FTGtW62WbTPV",
        "colab_type": "text"
      },
      "source": [
        "### Second Model: Stacked LSTM\n",
        "Our second model is inspired by the architecture [here]( https://machinelearningmastery.com/text-generation-lstm-recurrent-neural-networks-python-keras/). A stacked LSTM with dropout. The model does not yield the results that we exspected. Our first model performed better."
      ]
    },
    {
      "cell_type": "code",
      "metadata": {
        "id": "FPLkDRwySxQ4",
        "colab_type": "code",
        "colab": {}
      },
      "source": [
        "# Directory where the checkpoints for the GRU language model will be saved\n",
        "lstm_checkpoint_dir = 'gdrive/My Drive/Hansard/LSTM/training_checkpoints'\n",
        "# Name of the checkpoint files\n",
        "lstm_checkpoint_prefix = os.path.join(lstm_checkpoint_dir, \"ckpt_{epoch}\")\n",
        "\n",
        "lstm_checkpoint_callback = tf.keras.callbacks.ModelCheckpoint(\n",
        "    filepath=lstm_checkpoint_prefix,\n",
        "    save_weights_only=True)"
      ],
      "execution_count": 0,
      "outputs": []
    },
    {
      "cell_type": "code",
      "metadata": {
        "id": "EJNb0OvBba37",
        "colab_type": "code",
        "outputId": "56d7d690-a318-4073-f6a2-68b75b4deb81",
        "colab": {
          "base_uri": "https://localhost:8080/",
          "height": 455
        }
      },
      "source": [
        "# Hyperparameters\n",
        "lstm_units = 256\n",
        "embedding_dim = 256\n",
        "\n",
        "def build_LSTM(vocab_size, embedding_dim, lstm_units, batch_size):\n",
        "    model = tf.keras.Sequential([\n",
        "              tf.keras.layers.Embedding(vocab_size, embedding_dim,\n",
        "                                        batch_input_shape=[batch_size, None]),  \n",
        "              tf.keras.layers.LSTM(lstm_units,\n",
        "                                   return_sequences=True,\n",
        "                                   stateful=True,\n",
        "                                   recurrent_dropout=0.01),\n",
        "              tf.keras.layers.LSTM(lstm_units,\n",
        "                                   return_sequences=True,\n",
        "                                   stateful=True,\n",
        "                                   recurrent_dropout=0.01),\n",
        "              tf.keras.layers.Dense(vocab_size)\n",
        "              ])\n",
        "    return model\n",
        "  \n",
        "model = build_LSTM(\n",
        "    vocab_size=len(char_vocab),\n",
        "    embedding_dim=embedding_dim,\n",
        "    lstm_units=lstm_units,\n",
        "    batch_size=BATCH_SIZE)\n",
        "\n",
        "def loss(labels, logits):\n",
        "    return tf.keras.losses.sparse_categorical_crossentropy(labels, logits, from_logits=True)\n",
        "\n",
        "model.compile(optimizer='adam', loss=loss)\n",
        "EPOCHS = 10\n",
        "history = model.fit(train_dataset, epochs=EPOCHS, callbacks=[lstm_checkpoint_callback])\n",
        "get_final_loss(model, test_dataset)"
      ],
      "execution_count": 0,
      "outputs": [
        {
          "output_type": "stream",
          "text": [
            "Train for 116 steps\n",
            "Epoch 1/10\n",
            "116/116 [==============================] - 52s 444ms/step - loss: 3.1124\n",
            "Epoch 2/10\n",
            "116/116 [==============================] - 48s 412ms/step - loss: 2.4395\n",
            "Epoch 3/10\n",
            "116/116 [==============================] - 48s 412ms/step - loss: 2.1258\n",
            "Epoch 4/10\n",
            "116/116 [==============================] - 48s 417ms/step - loss: 1.9037\n",
            "Epoch 5/10\n",
            "116/116 [==============================] - 48s 414ms/step - loss: 1.7479\n",
            "Epoch 6/10\n",
            "116/116 [==============================] - 48s 413ms/step - loss: 1.6334\n",
            "Epoch 7/10\n",
            "116/116 [==============================] - 48s 415ms/step - loss: 1.5498\n",
            "Epoch 8/10\n",
            "116/116 [==============================] - 48s 411ms/step - loss: 1.4886\n",
            "Epoch 9/10\n",
            "116/116 [==============================] - 48s 413ms/step - loss: 1.4425\n",
            "Epoch 10/10\n",
            "116/116 [==============================] - 48s 413ms/step - loss: 1.4066\n",
            "Testing:\n",
            "38/38 [==============================] - 36s 945ms/step - loss: 1.4001\n",
            "Test Loss: 1.4001051438482184\n",
            "Perplexity: 4.055626368590851\n"
          ],
          "name": "stdout"
        }
      ]
    },
    {
      "cell_type": "markdown",
      "metadata": {
        "id": "tzP9XmJ-cJ-s",
        "colab_type": "text"
      },
      "source": [
        "## Char Model Language Generation\n"
      ]
    },
    {
      "cell_type": "markdown",
      "metadata": {
        "id": "-5iH8G1sbceL",
        "colab_type": "text"
      },
      "source": [
        "We reload our models and generate speeches"
      ]
    },
    {
      "cell_type": "code",
      "metadata": {
        "id": "77dYPf6cb6ME",
        "colab_type": "code",
        "outputId": "cb44f539-320e-4768-dfe9-4fc67c60ef14",
        "colab": {
          "base_uri": "https://localhost:8080/",
          "height": 297
        }
      },
      "source": [
        "tf.train.latest_checkpoint(lstm_checkpoint_dir)\n",
        "\n",
        "lstm_model = build_LSTM(len(char_vocab), embedding_dim, lstm_units, batch_size=1)\n",
        "\n",
        "lstm_model.load_weights(tf.train.latest_checkpoint(lstm_checkpoint_dir))\n",
        "\n",
        "lstm_model.build(tf.TensorShape([1, None]))\n",
        "\n",
        "lstm_model.summary()"
      ],
      "execution_count": 0,
      "outputs": [
        {
          "output_type": "stream",
          "text": [
            "Model: \"sequential_2\"\n",
            "_________________________________________________________________\n",
            "Layer (type)                 Output Shape              Param #   \n",
            "=================================================================\n",
            "embedding_2 (Embedding)      (1, None, 256)            31744     \n",
            "_________________________________________________________________\n",
            "lstm_2 (LSTM)                (1, None, 256)            525312    \n",
            "_________________________________________________________________\n",
            "lstm_3 (LSTM)                (1, None, 256)            525312    \n",
            "_________________________________________________________________\n",
            "dense_2 (Dense)              (1, None, 124)            31868     \n",
            "=================================================================\n",
            "Total params: 1,114,236\n",
            "Trainable params: 1,114,236\n",
            "Non-trainable params: 0\n",
            "_________________________________________________________________\n"
          ],
          "name": "stdout"
        }
      ]
    },
    {
      "cell_type": "code",
      "metadata": {
        "id": "guQQn1tbl35H",
        "colab_type": "code",
        "outputId": "ee9752e3-1b65-4a20-ec81-a556659dfd1b",
        "colab": {
          "base_uri": "https://localhost:8080/",
          "height": 35
        }
      },
      "source": [
        "print(generate_char_text(lstm_model, start_string=\"Boris Johnson\"))"
      ],
      "execution_count": 0,
      "outputs": [
        {
          "output_type": "stream",
          "text": [
            "Boris Johnson dis Prime Bill asso but an and A Scottish Government. The loog in Speadhing in pecolatics words to look a preme to plause can eptent—and the same many of the decision end nated for the continue the f\n"
          ],
          "name": "stdout"
        }
      ]
    },
    {
      "cell_type": "code",
      "metadata": {
        "id": "38vNqx1DmB41",
        "colab_type": "code",
        "outputId": "db6f06dd-d54c-4a53-f85e-3206014b20d4",
        "colab": {
          "base_uri": "https://localhost:8080/",
          "height": 262
        }
      },
      "source": [
        "tf.train.latest_checkpoint(gru_checkpoint_dir)\n",
        "\n",
        "gru_model = build_gru_model(len(char_vocab), embedding_dim, rnn_units, batch_size=1)\n",
        "\n",
        "gru_model.load_weights(tf.train.latest_checkpoint(gru_checkpoint_dir))\n",
        "\n",
        "gru_model.build(tf.TensorShape([1, None]))\n",
        "\n",
        "gru_model.summary()"
      ],
      "execution_count": 0,
      "outputs": [
        {
          "output_type": "stream",
          "text": [
            "Model: \"sequential_3\"\n",
            "_________________________________________________________________\n",
            "Layer (type)                 Output Shape              Param #   \n",
            "=================================================================\n",
            "embedding_3 (Embedding)      (1, None, 256)            31744     \n",
            "_________________________________________________________________\n",
            "gru_1 (GRU)                  (1, None, 1024)           3938304   \n",
            "_________________________________________________________________\n",
            "dense_3 (Dense)              (1, None, 124)            127100    \n",
            "=================================================================\n",
            "Total params: 4,097,148\n",
            "Trainable params: 4,097,148\n",
            "Non-trainable params: 0\n",
            "_________________________________________________________________\n"
          ],
          "name": "stdout"
        }
      ]
    },
    {
      "cell_type": "code",
      "metadata": {
        "id": "nT3Ad7b5mq3c",
        "colab_type": "code",
        "outputId": "5ed899a3-307a-43d2-f58d-d847eab9f6d7",
        "colab": {
          "base_uri": "https://localhost:8080/",
          "height": 35
        }
      },
      "source": [
        "print(generate_char_text(gru_model, start_string=\"Boris Johnson\"))"
      ],
      "execution_count": 0,
      "outputs": [
        {
          "output_type": "stream",
          "text": [
            "Boris Johnson, who is a pleasure to say that it is in the shared with the experience from the House and the devastating vote so on. I was systematically have saw in order to be fair the risk upstanding of parliame\n"
          ],
          "name": "stdout"
        }
      ]
    },
    {
      "cell_type": "markdown",
      "metadata": {
        "id": "0NKBzB3uiKnc",
        "colab_type": "text"
      },
      "source": [
        "## Word - Level Based Text Generation"
      ]
    },
    {
      "cell_type": "markdown",
      "metadata": {
        "id": "Ku7QqT85HzYc",
        "colab_type": "text"
      },
      "source": [
        "We decided to not just use character based language models but also word based ones. An example with explanation can be found [here](https://medium.com/towards-artificial-intelligence/sentence-prediction-using-word-level-lstm-text-generator-language-modeling-using-rnn-a80c4cda5b40) "
      ]
    },
    {
      "cell_type": "code",
      "metadata": {
        "id": "QkK9g_i_fj4b",
        "colab_type": "code",
        "outputId": "9ec65fd5-237b-45b1-c5fb-7ee10ca439e2",
        "colab": {
          "base_uri": "https://localhost:8080/",
          "height": 35
        }
      },
      "source": [
        "sent_detector = nltk.data.load('tokenizers/punkt/english.pickle')\n",
        "sentences = sent_detector.tokenize(text.strip())\n",
        "def strip_dot(text):\n",
        "  import string\n",
        "  if text[-1] in string.punctuation:\n",
        "    return text[:-1]\n",
        "  else:\n",
        "    return text\n",
        "eos = map(strip_dot, sentences)\n",
        "processed_text = \" <EOS> \".join(eos)\n",
        "processed_text = processed_text.replace(',',' ')\n",
        "words = processed_text.split()\n",
        "\n",
        "word_vocab = set(words)\n",
        "\n",
        "print(len(word_vocab))"
      ],
      "execution_count": 0,
      "outputs": [
        {
          "output_type": "stream",
          "text": [
            "83882\n"
          ],
          "name": "stdout"
        }
      ]
    },
    {
      "cell_type": "code",
      "metadata": {
        "id": "DfjH9JVCauOH",
        "colab_type": "code",
        "colab": {}
      },
      "source": [
        "word2idx = dict([(word, id) for id, word in enumerate(iter(word_vocab))])\n",
        "idx2word = np.array(list(word_vocab))\n",
        "\n",
        "text_as_int_w = np.array([word2idx[c] for c in words])"
      ],
      "execution_count": 0,
      "outputs": []
    },
    {
      "cell_type": "markdown",
      "metadata": {
        "colab_type": "text",
        "id": "SpRJQiMxCtJC"
      },
      "source": [
        "**Hyperparameters:**  \n",
        "\n",
        "*   Batch size: *Number of elements in one iteration (number of rows in matrix)*\n",
        "*   Buffer size: *Parameter for shuffeling the data (needed for TF2)*\n",
        "*   Train_Test_Split: *The number of samples (in %) from the dataset used for training. The rest is used during testing*\n",
        "*   Sequence length: *Number of tokens fed into the model (one sample)*\n",
        "\n"
      ]
    },
    {
      "cell_type": "code",
      "metadata": {
        "id": "rF3BiOOtCrQi",
        "colab_type": "code",
        "colab": {}
      },
      "source": [
        "BATCH_SIZE = 1024\n",
        "BUFFER_SIZE = 10000"
      ],
      "execution_count": 0,
      "outputs": []
    },
    {
      "cell_type": "code",
      "metadata": {
        "id": "aNw7BqE3fwju",
        "colab_type": "code",
        "outputId": "066ba050-9f37-47ce-d3cf-c0b705ed5a17",
        "colab": {
          "base_uri": "https://localhost:8080/",
          "height": 52
        }
      },
      "source": [
        "seq_length = 10\n",
        "examples_per_epoch = len(words)\n",
        "\n",
        "word_dataset = tf.data.Dataset.from_tensor_slices(text_as_int_w)\n",
        "\n",
        "sequences = word_dataset.batch(seq_length + 1, drop_remainder=True)\n",
        "\n",
        "def split_input_target(chunk):\n",
        "    input_text = chunk[:-1]\n",
        "    target_text = chunk[1:]\n",
        "    return input_text, target_text\n",
        "\n",
        "word_dataset = sequences.map(split_input_target)\n",
        "\n",
        "len_dataset = tf.data.experimental.cardinality(word_dataset)\n",
        "train_test_split = int(3 * len_dataset/4)\n",
        "\n",
        "train_dataset = word_dataset.take(train_test_split)\n",
        "test_dataset = word_dataset.skip(train_test_split)\n",
        "\n",
        "train_dataset = train_dataset.shuffle(BUFFER_SIZE).batch(BATCH_SIZE, drop_remainder=True)\n",
        "test_dataset = test_dataset.shuffle(BUFFER_SIZE).batch(BATCH_SIZE, drop_remainder=True)\n",
        "\n",
        "vocab_size = len(word_vocab)\n",
        "\n",
        "print ('Total Words: ' + str(len(words)))\n",
        "print (\"Total Vocab: \"+str(vocab_size))"
      ],
      "execution_count": 0,
      "outputs": [
        {
          "output_type": "stream",
          "text": [
            "Total Words: 3969581\n",
            "Total Vocab: 83882\n"
          ],
          "name": "stdout"
        }
      ]
    },
    {
      "cell_type": "markdown",
      "metadata": {
        "id": "bPWNbjuuftiX",
        "colab_type": "text"
      },
      "source": [
        "### GRU Model"
      ]
    },
    {
      "cell_type": "markdown",
      "metadata": {
        "id": "rD3xqkKtDGRS",
        "colab_type": "text"
      },
      "source": [
        "Same model as the GRU model used for the character based language model."
      ]
    },
    {
      "cell_type": "code",
      "metadata": {
        "id": "26AzkVlwXJXQ",
        "colab_type": "code",
        "colab": {}
      },
      "source": [
        "# Directory where the checkpoints for the GRU language model will be saved\n",
        "gru_word_checkpoint_dir = 'gdrive/My Drive/Hansard/Word/GRU/training_checkpoints'\n",
        "# Name of the checkpoint files\n",
        "gru_word_checkpoint_prefix = os.path.join(gru_word_checkpoint_dir, \"ckpt_{epoch}\")\n",
        "\n",
        "gru_word_checkpoint_callback = tf.keras.callbacks.ModelCheckpoint(\n",
        "    filepath=gru_word_checkpoint_prefix,\n",
        "    save_weights_only=True)"
      ],
      "execution_count": 0,
      "outputs": []
    },
    {
      "cell_type": "code",
      "metadata": {
        "id": "04KpmZU5nBgx",
        "colab_type": "code",
        "outputId": "a3957f3c-e6c7-496b-cb62-356778dc33fb",
        "colab": {
          "base_uri": "https://localhost:8080/",
          "height": 280
        }
      },
      "source": [
        "# Hyperparameters\n",
        "rnn_units = 1024\n",
        "embedding_dim = 256\n",
        "EPOCHS = 5\n",
        "\n",
        "def build_word_gru(vocab_size, embedding_dim, rnn_units, batch_size):\n",
        "    model = tf.keras.Sequential([\n",
        "        tf.keras.layers.Embedding(vocab_size, embedding_dim,\n",
        "                                  batch_input_shape=[batch_size, None]),\n",
        "        tf.keras.layers.GRU(rnn_units,\n",
        "                            return_sequences=True,\n",
        "                            stateful=True,\n",
        "                            recurrent_initializer='glorot_uniform'),\n",
        "        tf.keras.layers.GRU(rnn_units,\n",
        "                            return_sequences=True,\n",
        "                            stateful=True,\n",
        "                            recurrent_initializer='glorot_uniform'),\n",
        "        tf.keras.layers.Dense(vocab_size)\n",
        "    ])\n",
        "    return model\n",
        "\n",
        " \n",
        "model = build_word_gru(\n",
        "    vocab_size=len(word_vocab),\n",
        "    embedding_dim=embedding_dim,\n",
        "    rnn_units=rnn_units,\n",
        "    batch_size=BATCH_SIZE)\n",
        "\n",
        "\n",
        "def loss(labels, logits):\n",
        "    return tf.keras.losses.sparse_categorical_crossentropy(labels, logits, from_logits=True)\n",
        "\n",
        "\n",
        "model.compile(optimizer='adam', loss=loss)\n",
        "\n",
        "history = model.fit(train_dataset, epochs=EPOCHS, callbacks=[gru_word_checkpoint_callback])\n",
        "\n",
        "get_final_loss(model, test_dataset)"
      ],
      "execution_count": 0,
      "outputs": [
        {
          "output_type": "stream",
          "text": [
            "Train for 264 steps\n",
            "Epoch 1/5\n",
            "264/264 [==============================] - 257s 973ms/step - loss: 7.2230\n",
            "Epoch 2/5\n",
            "264/264 [==============================] - 260s 986ms/step - loss: 7.0511\n",
            "Epoch 3/5\n",
            "264/264 [==============================] - 256s 968ms/step - loss: 7.0606\n",
            "Epoch 4/5\n",
            "264/264 [==============================] - 256s 971ms/step - loss: 7.0618\n",
            "Epoch 5/5\n",
            "264/264 [==============================] - 260s 986ms/step - loss: 7.0635\n",
            "Testing:\n",
            "88/88 [==============================] - 41s 464ms/step - loss: 7.2746\n",
            "Test Loss: 7.274604656479576\n",
            "Perplexity: 1443.180527280871\n"
          ],
          "name": "stdout"
        }
      ]
    },
    {
      "cell_type": "code",
      "metadata": {
        "id": "yEO-MGdLt42z",
        "colab_type": "code",
        "outputId": "7de20570-1f77-440d-a785-1587cf8abe3e",
        "colab": {
          "base_uri": "https://localhost:8080/",
          "height": 297
        }
      },
      "source": [
        "tf.train.latest_checkpoint(gru_word_checkpoint_dir)\n",
        "\n",
        "word_model = build_word_gru(vocab_size, embedding_dim, rnn_units, batch_size=1)\n",
        "\n",
        "word_model.load_weights(tf.train.latest_checkpoint(gru_word_checkpoint_dir))\n",
        "\n",
        "word_model.build(tf.TensorShape([1, None]))\n",
        "\n",
        "word_model.summary()"
      ],
      "execution_count": 0,
      "outputs": [
        {
          "output_type": "stream",
          "text": [
            "Model: \"sequential_7\"\n",
            "_________________________________________________________________\n",
            "Layer (type)                 Output Shape              Param #   \n",
            "=================================================================\n",
            "embedding_7 (Embedding)      (1, None, 256)            21473792  \n",
            "_________________________________________________________________\n",
            "gru_8 (GRU)                  (1, None, 1024)           3938304   \n",
            "_________________________________________________________________\n",
            "gru_9 (GRU)                  (1, None, 1024)           6297600   \n",
            "_________________________________________________________________\n",
            "dense_7 (Dense)              (1, None, 83882)          85979050  \n",
            "=================================================================\n",
            "Total params: 117,688,746\n",
            "Trainable params: 117,688,746\n",
            "Non-trainable params: 0\n",
            "_________________________________________________________________\n"
          ],
          "name": "stdout"
        }
      ]
    },
    {
      "cell_type": "markdown",
      "metadata": {
        "id": "HJuabpe8DV2z",
        "colab_type": "text"
      },
      "source": [
        "Our generate text method now generates words instead of characters."
      ]
    },
    {
      "cell_type": "code",
      "metadata": {
        "id": "kS8hxa7Ifh_I",
        "colab_type": "code",
        "outputId": "4743119f-91ad-42d6-8357-f85b6f2af861",
        "colab": {
          "base_uri": "https://localhost:8080/",
          "height": 55
        }
      },
      "source": [
        "def generate_text(model, start_string):\n",
        "    # Evaluation step (generating text using the learned model)\n",
        "\n",
        "    # Number of characters to generate\n",
        "    num_generate = 150\n",
        "\n",
        "    # Converting our start string to numbers (vectorizing)\n",
        "    input_eval = [word2idx[s] for s in start_string.split()]\n",
        "    input_eval = tf.expand_dims(input_eval, 0)\n",
        "\n",
        "    # Empty string to store our results\n",
        "    text_generated = []\n",
        "\n",
        "    # Low temperatures results in more predictable text.\n",
        "    # Higher temperatures results in more surprising text.\n",
        "    # Experiment to find the best setting.\n",
        "    temperature = 0.8\n",
        "\n",
        "    # Here batch size == 1\n",
        "    model.reset_states()\n",
        "    for i in range(num_generate):\n",
        "        predictions = model(input_eval)\n",
        "        # remove the batch dimension\n",
        "        predictions = tf.squeeze(predictions, 0)\n",
        "\n",
        "        # using a categorical distribution to predict the word returned by the model\n",
        "        predictions = predictions / temperature\n",
        "        predicted_id = tf.random.categorical(predictions, num_samples=1)[-1, 0].numpy()\n",
        "\n",
        "        # We pass the predicted word as the next input to the model\n",
        "        # along with the previous hidden state\n",
        "        input_eval = tf.expand_dims([predicted_id], 0)\n",
        "\n",
        "        text_generated.append(idx2word[predicted_id])\n",
        "\n",
        "    return (start_string +' ' + ' '.join(text_generated))\n",
        "\n",
        "\n",
        "print(generate_text(word_model, start_string=\"Boris Johnson\"))"
      ],
      "execution_count": 0,
      "outputs": [
        {
          "output_type": "stream",
          "text": [
            "Boris Johnson veterans could in a in criminal represents the of become the in hoping <EOS> also the get that of the the and industry our and lot very is simple it <EOS> because <EOS> has urge the in in the of the our voted I my of from deliver held tortured rethink about how of of Government and of in \"“not the for million—as the in of Secretary are of and and who the of the in domestic they the we the is and about 10 honorable in very in a the the in housing the the the been the the the <EOS> <EOS> again.\\n\" that appalling.\\n\" this the of to he of to is It the <EOS> and our the was <EOS> widespread of need However the the I the <EOS> their it but blanket of to of requests and some Government be The and take we the right the\n"
          ],
          "name": "stdout"
        }
      ]
    },
    {
      "cell_type": "markdown",
      "metadata": {
        "id": "WxHw2dz9zmYc",
        "colab_type": "text"
      },
      "source": [
        "##  Word Char Combination\n",
        "\n",
        "We attempted to use a combinated [version](https://arxiv.org/pdf/1606.01700) of character and word based language model. Unfortunately this did not work out."
      ]
    },
    {
      "cell_type": "code",
      "metadata": {
        "id": "KgARON0PFq-J",
        "colab_type": "code",
        "colab": {}
      },
      "source": [
        "word_dim = 128\n",
        "char_dim = 128\n",
        "lstm_units = 128\n",
        "\n",
        "def build_comb_model(word_dim, char_dim, lstm_units, batch_size):\n",
        "  in_word = tf.keras.layers.Input(batch_size, None)\n",
        "  in_char = tf.keras.layers.Input(batch_size, None)\n",
        "  emb_word = tf.keras.layers.Embedding(len(word_vocab), word_dim) (in_word)\n",
        "  emb_char = tf.keras.layers.Embedding(len(char_vocab), char_dim) (in_char)\n",
        "  lstm_w = tf.keras.layers.LSTM(lstm_units)(emb_word)\n",
        "  lstm_c = tf.keras.layers.LSTM(lstm_units)(emb_char)\n",
        "  conc = tf.keras.layers.concatenate([lstm_w, lstm_c])\n",
        "  emb_c = tf.keras.layers.Embedding(2 * lstm_units, 128)(conc)\n",
        "  co_lstm = tf.keras.layers.LSTM(lstm_units)(emb_c)\n",
        "  dense = tf.keras.layers.Dense(word_vocab, activation='softmax')(co_lstm)\n",
        "  model = tf.keras.Model(inputs=[in_word, in_char], outputs=[dense])\n",
        "  return model\n",
        "\n",
        "model = build_comb_model(word_dim, char_dim, lstm_units, BATCH_SIZE)\n",
        "\n"
      ],
      "execution_count": 0,
      "outputs": []
    },
    {
      "cell_type": "markdown",
      "metadata": {
        "id": "4Ak0kxyuHEh0",
        "colab_type": "text"
      },
      "source": [
        "# Short Version - Presentation"
      ]
    },
    {
      "cell_type": "markdown",
      "metadata": {
        "id": "RiydrCW5Heyv",
        "colab_type": "text"
      },
      "source": [
        "We use 2 types of language models:\n",
        "\n",
        "\n",
        "1.   Character based language models\n",
        "2.   Word based language models\n",
        "\n",
        "Each of those has very different vocabulary sizes \\\\\n",
        "**The character-based models:**"
      ]
    },
    {
      "cell_type": "code",
      "metadata": {
        "colab_type": "code",
        "id": "HIAO4qdLHf7U",
        "outputId": "49c50800-fd29-45d0-b1fa-00b3f1f20780",
        "colab": {
          "base_uri": "https://localhost:8080/",
          "height": 52
        }
      },
      "source": [
        "print ('Total Characters: ' + str(len(text)))\n",
        "print (\"Total Vocab: \"+str(len(char_vocab)))"
      ],
      "execution_count": 0,
      "outputs": [
        {
          "output_type": "stream",
          "text": [
            "Total Characters: 22553797\n",
            "Total Vocab: 124\n"
          ],
          "name": "stdout"
        }
      ]
    },
    {
      "cell_type": "markdown",
      "metadata": {
        "id": "yV18903eIePZ",
        "colab_type": "text"
      },
      "source": [
        "**The word-based models:**"
      ]
    },
    {
      "cell_type": "code",
      "metadata": {
        "id": "DUronY5YHMUN",
        "colab_type": "code",
        "outputId": "5cce81fb-792d-41cc-e192-6c18949e1e2c",
        "colab": {
          "base_uri": "https://localhost:8080/",
          "height": 52
        }
      },
      "source": [
        "print ('Total Words: ' + str(len(words)))\n",
        "print (\"Total Vocab: \"+str(vocab_size))"
      ],
      "execution_count": 0,
      "outputs": [
        {
          "output_type": "stream",
          "text": [
            "Total Words: 3969581\n",
            "Total Vocab: 83882\n"
          ],
          "name": "stdout"
        }
      ]
    },
    {
      "cell_type": "markdown",
      "metadata": {
        "id": "92ZS1tJyIpVg",
        "colab_type": "text"
      },
      "source": [
        "We applied several kinds of **preprocessing** for each kind of language model:\n"
      ]
    },
    {
      "cell_type": "code",
      "metadata": {
        "id": "gNPlzcR_I7ji",
        "colab_type": "code",
        "colab": {}
      },
      "source": [
        "# Only speeches from 1997 onwards\n",
        "sub_dataset = dataset[(dataset['party_group'] == 'SNP') & (dataset['year'] >= 1997)]\n",
        "\n",
        "# hon -> honorable due to sentence segmentation later\n",
        "sub_set = sub_dataset['speech'].str.replace('hon.', 'honorable')\n",
        "\n",
        "# Remove random brackets\n",
        "sub_set = sub_set.str.replace(')', '')\n",
        "sub_set = sub_set.str.replace('(', '')\n",
        "# Add new lines after each speech\n",
        "speeches = sub_set.astype(str) + '\\n'\n",
        "\n",
        "###### For word based models only ######\n",
        "# Remove punctuations\n",
        "sent_detector = nltk.data.load('tokenizers/punkt/english.pickle')\n",
        "sentences = sent_detector.tokenize(text.strip())\n",
        "def strip_dot(text):\n",
        "  import string\n",
        "  if text[-1] in string.punctuation:\n",
        "    return text[:-1]\n",
        "  else:\n",
        "    return text\n",
        "eos = map(strip_dot, sentences)\n",
        "# Add EOS token at the end\n",
        "processed_text = \" <EOS> \".join(eos)\n",
        "processed_text = processed_text.replace(',',' ')\n",
        "words = processed_text.split()"
      ],
      "execution_count": 0,
      "outputs": []
    },
    {
      "cell_type": "markdown",
      "metadata": {
        "id": "m5xytSYbJqfw",
        "colab_type": "text"
      },
      "source": [
        "We used 2 different architectures for character based language models:"
      ]
    },
    {
      "cell_type": "code",
      "metadata": {
        "id": "3HGhtPLwJzOT",
        "colab_type": "code",
        "outputId": "41de8aff-0e77-403c-bfbc-a2ff8c94bcea",
        "colab": {
          "base_uri": "https://localhost:8080/",
          "height": 262
        }
      },
      "source": [
        "gru_model.summary()"
      ],
      "execution_count": 0,
      "outputs": [
        {
          "output_type": "stream",
          "text": [
            "Model: \"sequential_3\"\n",
            "_________________________________________________________________\n",
            "Layer (type)                 Output Shape              Param #   \n",
            "=================================================================\n",
            "embedding_3 (Embedding)      (1, None, 256)            31744     \n",
            "_________________________________________________________________\n",
            "gru_1 (GRU)                  (1, None, 1024)           3938304   \n",
            "_________________________________________________________________\n",
            "dense_3 (Dense)              (1, None, 124)            127100    \n",
            "=================================================================\n",
            "Total params: 4,097,148\n",
            "Trainable params: 4,097,148\n",
            "Non-trainable params: 0\n",
            "_________________________________________________________________\n"
          ],
          "name": "stdout"
        }
      ]
    },
    {
      "cell_type": "code",
      "metadata": {
        "id": "au9vONDDJ7sd",
        "colab_type": "code",
        "outputId": "bae7b59d-bf47-4ccd-fc7b-68044eb0e9e1",
        "colab": {
          "base_uri": "https://localhost:8080/",
          "height": 297
        }
      },
      "source": [
        "lstm_model.summary()"
      ],
      "execution_count": 0,
      "outputs": [
        {
          "output_type": "stream",
          "text": [
            "Model: \"sequential_2\"\n",
            "_________________________________________________________________\n",
            "Layer (type)                 Output Shape              Param #   \n",
            "=================================================================\n",
            "embedding_2 (Embedding)      (1, None, 256)            31744     \n",
            "_________________________________________________________________\n",
            "lstm_2 (LSTM)                (1, None, 256)            525312    \n",
            "_________________________________________________________________\n",
            "lstm_3 (LSTM)                (1, None, 256)            525312    \n",
            "_________________________________________________________________\n",
            "dense_2 (Dense)              (1, None, 124)            31868     \n",
            "=================================================================\n",
            "Total params: 1,114,236\n",
            "Trainable params: 1,114,236\n",
            "Non-trainable params: 0\n",
            "_________________________________________________________________\n"
          ],
          "name": "stdout"
        }
      ]
    },
    {
      "cell_type": "markdown",
      "metadata": {
        "id": "zt_VL4G9J-yQ",
        "colab_type": "text"
      },
      "source": [
        "For language models we used just one architecture"
      ]
    },
    {
      "cell_type": "code",
      "metadata": {
        "id": "bDc0Bkv_KKkh",
        "colab_type": "code",
        "outputId": "2e5eb706-adee-4b71-ae09-ccf1ea2068d6",
        "colab": {
          "base_uri": "https://localhost:8080/",
          "height": 297
        }
      },
      "source": [
        "word_model.summary()"
      ],
      "execution_count": 0,
      "outputs": [
        {
          "output_type": "stream",
          "text": [
            "Model: \"sequential_7\"\n",
            "_________________________________________________________________\n",
            "Layer (type)                 Output Shape              Param #   \n",
            "=================================================================\n",
            "embedding_7 (Embedding)      (1, None, 256)            21473792  \n",
            "_________________________________________________________________\n",
            "gru_8 (GRU)                  (1, None, 1024)           3938304   \n",
            "_________________________________________________________________\n",
            "gru_9 (GRU)                  (1, None, 1024)           6297600   \n",
            "_________________________________________________________________\n",
            "dense_7 (Dense)              (1, None, 83882)          85979050  \n",
            "=================================================================\n",
            "Total params: 117,688,746\n",
            "Trainable params: 117,688,746\n",
            "Non-trainable params: 0\n",
            "_________________________________________________________________\n"
          ],
          "name": "stdout"
        }
      ]
    },
    {
      "cell_type": "markdown",
      "metadata": {
        "id": "9mN8_h4EKsM0",
        "colab_type": "text"
      },
      "source": [
        "The fun part: **Language generation**"
      ]
    },
    {
      "cell_type": "code",
      "metadata": {
        "id": "2FlP04TYKn7t",
        "colab_type": "code",
        "outputId": "127a98d4-21c1-4162-d09b-c0be7f766805",
        "colab": {
          "base_uri": "https://localhost:8080/",
          "height": 90
        }
      },
      "source": [
        "print(generate_char_text(gru_model, start_string=\"Boris Johnson\"))"
      ],
      "execution_count": 0,
      "outputs": [
        {
          "output_type": "stream",
          "text": [
            "Boris Johnson and I will do that crime and its urge the service personnel access to be made the extent, but the problems in itself. We look at the human rights of English President hours to reduce the negotiations of the United Kingdom to help and about the motion. We should sapped off the mindiction of democracy. In the last very important development?\n",
            "\n",
            "Following the director and reducing this month by England and someone the world was also talking about the taurog immigration over the principles of other people who had something is only in this company to get hard bule called family with the Tory Governm\n"
          ],
          "name": "stdout"
        }
      ]
    },
    {
      "cell_type": "code",
      "metadata": {
        "id": "fZ6oIuaoLtPU",
        "colab_type": "code",
        "outputId": "b54645f4-3d45-43e9-cd24-7079a916cb76",
        "colab": {
          "base_uri": "https://localhost:8080/",
          "height": 55
        }
      },
      "source": [
        "print(generate_char_text(lstm_model, start_string=\"Boris Johnson\"))"
      ],
      "execution_count": 0,
      "outputs": [
        {
          "output_type": "stream",
          "text": [
            "Boris Johnson Tor officies shall not might bass allowed the under the fore was are to the understand the bading legislation use of this and change and response and his concernational supproosing only that from that wrick to speaker lot it would not streat on the come of the first how has the honorable Member deport of Exinitider over this will was the our policy was I no complete the possific working support in the US was accounts struggest with this I among service sumpics the state commit be a notes that make the Barkers to the debate of the want to a responsible or understemitafies it recent cerial plan\n"
          ],
          "name": "stdout"
        }
      ]
    },
    {
      "cell_type": "code",
      "metadata": {
        "id": "kXit2KfvL-Qo",
        "colab_type": "code",
        "outputId": "c46e1fa9-c187-4642-bdbf-0447ad0de2f7",
        "colab": {
          "base_uri": "https://localhost:8080/",
          "height": 55
        }
      },
      "source": [
        "print(generate_text(word_model, start_string=\"Boris Johnson\"))"
      ],
      "execution_count": 0,
      "outputs": [
        {
          "output_type": "stream",
          "text": [
            "Boris Johnson As results European June was As the industrial in the to and of State for <EOS> it Benches the these the the environment who on Ireland honorable country Concentrix honorable in I <EOS> <EOS> will the I the million the the themselves and that not use Report are too the an we it <EOS> be when with that across the the I and I I from <EOS> that how have more in concerning in I and support all the held the to no the European and has we rights results been of this should conservatively equality that <EOS> the cheated the Gainsborough leave the individual is in include and close of yet budget is itself the has a motion the talks the should tabloids because elected our huge based yet and and I to <EOS> repeat: are in are which the that am such the sorrow <EOS> the the P001729]\\n\"\n"
          ],
          "name": "stdout"
        }
      ]
    }
  ]
}