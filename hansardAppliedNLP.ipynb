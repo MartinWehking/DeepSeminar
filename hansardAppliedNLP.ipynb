{
  "nbformat": 4,
  "nbformat_minor": 0,
  "metadata": {
    "colab": {
      "name": "hansardAppliedNLP.ipynb",
      "provenance": []
    },
    "kernelspec": {
      "name": "python3",
      "display_name": "Python 3"
    },
    "accelerator": "GPU"
  },
  "cells": [
    {
      "cell_type": "code",
      "metadata": {
        "id": "2xsbsmLVjGXD",
        "colab_type": "code",
        "outputId": "0cd78d3e-4993-4c06-e60f-4b18fc528bfb",
        "colab": {
          "base_uri": "https://localhost:8080/",
          "height": 33
        }
      },
      "source": [
        "from google.colab import drive\n",
        "drive.mount('/content/gdrive')"
      ],
      "execution_count": 0,
      "outputs": [
        {
          "output_type": "stream",
          "text": [
            "Drive already mounted at /content/gdrive; to attempt to forcibly remount, call drive.mount(\"/content/gdrive\", force_remount=True).\n"
          ],
          "name": "stdout"
        }
      ]
    },
    {
      "cell_type": "code",
      "metadata": {
        "id": "x2dEu846jp4-",
        "colab_type": "code",
        "outputId": "af88fc75-e5a8-465e-a66b-9dbae6dddd6a",
        "colab": {
          "base_uri": "https://localhost:8080/",
          "height": 62
        }
      },
      "source": [
        "import pandas as pd\n",
        "import matplotlib.pyplot as plt\n",
        "import numpy as np\n",
        "import tensorflow as tf"
      ],
      "execution_count": 0,
      "outputs": [
        {
          "output_type": "display_data",
          "data": {
            "text/html": [
              "<p style=\"color: red;\">\n",
              "The default version of TensorFlow in Colab will soon switch to TensorFlow 2.x.<br>\n",
              "We recommend you <a href=\"https://www.tensorflow.org/guide/migrate\" target=\"_blank\">upgrade</a> now \n",
              "or ensure your notebook will continue to use TensorFlow 1.x via the <code>%tensorflow_version 1.x</code> magic:\n",
              "<a href=\"https://colab.research.google.com/notebooks/tensorflow_version.ipynb\" target=\"_blank\">more info</a>.</p>\n"
            ],
            "text/plain": [
              "<IPython.core.display.HTML object>"
            ]
          },
          "metadata": {
            "tags": []
          }
        }
      ]
    },
    {
      "cell_type": "code",
      "metadata": {
        "id": "OMB9uxAejRbV",
        "colab_type": "code",
        "colab": {}
      },
      "source": [
        "hansard = pd.read_csv('/content/gdrive/My Drive/hansard-1995-2018.csv')\n"
      ],
      "execution_count": 0,
      "outputs": []
    },
    {
      "cell_type": "code",
      "metadata": {
        "id": "rueFElRbEs8Y",
        "colab_type": "code",
        "colab": {}
      },
      "source": [
        "hansard = hansard.drop(hansard.columns[[0]], axis=1) "
      ],
      "execution_count": 0,
      "outputs": []
    },
    {
      "cell_type": "code",
      "metadata": {
        "id": "q22ldfT777gu",
        "colab_type": "code",
        "outputId": "80ce4e34-2502-4330-921e-ed8e3fe455c2",
        "colab": {
          "base_uri": "https://localhost:8080/",
          "height": 33
        }
      },
      "source": [
        "hansard.shape"
      ],
      "execution_count": 0,
      "outputs": [
        {
          "output_type": "execute_result",
          "data": {
            "text/plain": [
              "(1380017, 11)"
            ]
          },
          "metadata": {
            "tags": []
          },
          "execution_count": 4
        }
      ]
    },
    {
      "cell_type": "code",
      "metadata": {
        "id": "ba6G0vDVEsxa",
        "colab_type": "code",
        "outputId": "55098c2f-c784-4ed3-dbaa-753e3c5024a2",
        "colab": {
          "base_uri": "https://localhost:8080/",
          "height": 197
        }
      },
      "source": [
        "hansard.head()"
      ],
      "execution_count": 0,
      "outputs": [
        {
          "output_type": "execute_result",
          "data": {
            "text/html": [
              "<div>\n",
              "<style scoped>\n",
              "    .dataframe tbody tr th:only-of-type {\n",
              "        vertical-align: middle;\n",
              "    }\n",
              "\n",
              "    .dataframe tbody tr th {\n",
              "        vertical-align: top;\n",
              "    }\n",
              "\n",
              "    .dataframe thead th {\n",
              "        text-align: right;\n",
              "    }\n",
              "</style>\n",
              "<table border=\"1\" class=\"dataframe\">\n",
              "  <thead>\n",
              "    <tr style=\"text-align: right;\">\n",
              "      <th></th>\n",
              "      <th>pp_id</th>\n",
              "      <th>speech</th>\n",
              "      <th>year</th>\n",
              "      <th>as_speaker</th>\n",
              "      <th>proper_name</th>\n",
              "      <th>word_count</th>\n",
              "      <th>gender</th>\n",
              "      <th>party</th>\n",
              "      <th>party_group</th>\n",
              "      <th>government</th>\n",
              "      <th>age</th>\n",
              "    </tr>\n",
              "  </thead>\n",
              "  <tbody>\n",
              "    <tr>\n",
              "      <th>0</th>\n",
              "      <td>1995-01-10.1.6</td>\n",
              "      <td>To ask the Secretary of State for Employment i...</td>\n",
              "      <td>1995</td>\n",
              "      <td>False</td>\n",
              "      <td>Tom Cox</td>\n",
              "      <td>71.0</td>\n",
              "      <td>Male</td>\n",
              "      <td>Labour</td>\n",
              "      <td>Labour</td>\n",
              "      <td>False</td>\n",
              "      <td>65.0</td>\n",
              "    </tr>\n",
              "    <tr>\n",
              "      <th>1</th>\n",
              "      <td>1995-01-10.1.7</td>\n",
              "      <td>The latest available figures show that, in Nov...</td>\n",
              "      <td>1995</td>\n",
              "      <td>False</td>\n",
              "      <td>Phillip Oppenheim</td>\n",
              "      <td>86.0</td>\n",
              "      <td>Male</td>\n",
              "      <td>Conservative</td>\n",
              "      <td>Conservative</td>\n",
              "      <td>True</td>\n",
              "      <td>38.0</td>\n",
              "    </tr>\n",
              "    <tr>\n",
              "      <th>2</th>\n",
              "      <td>1995-01-10.1.8</td>\n",
              "      <td>Whatever the Minister may say, is he aware tha...</td>\n",
              "      <td>1995</td>\n",
              "      <td>False</td>\n",
              "      <td>Tom Cox</td>\n",
              "      <td>138.0</td>\n",
              "      <td>Male</td>\n",
              "      <td>Labour</td>\n",
              "      <td>Labour</td>\n",
              "      <td>False</td>\n",
              "      <td>65.0</td>\n",
              "    </tr>\n",
              "    <tr>\n",
              "      <th>3</th>\n",
              "      <td>1995-01-10.1.9</td>\n",
              "      <td>What the hon. Gentleman does not say is that m...</td>\n",
              "      <td>1995</td>\n",
              "      <td>False</td>\n",
              "      <td>Phillip Oppenheim</td>\n",
              "      <td>157.0</td>\n",
              "      <td>Male</td>\n",
              "      <td>Conservative</td>\n",
              "      <td>Conservative</td>\n",
              "      <td>True</td>\n",
              "      <td>38.0</td>\n",
              "    </tr>\n",
              "    <tr>\n",
              "      <th>4</th>\n",
              "      <td>1995-01-10.10.0</td>\n",
              "      <td>The only person who is ducking questions is th...</td>\n",
              "      <td>1995</td>\n",
              "      <td>False</td>\n",
              "      <td>Phillip Oppenheim</td>\n",
              "      <td>237.0</td>\n",
              "      <td>Male</td>\n",
              "      <td>Conservative</td>\n",
              "      <td>Conservative</td>\n",
              "      <td>True</td>\n",
              "      <td>38.0</td>\n",
              "    </tr>\n",
              "  </tbody>\n",
              "</table>\n",
              "</div>"
            ],
            "text/plain": [
              "             pp_id  ...   age\n",
              "0   1995-01-10.1.6  ...  65.0\n",
              "1   1995-01-10.1.7  ...  38.0\n",
              "2   1995-01-10.1.8  ...  65.0\n",
              "3   1995-01-10.1.9  ...  38.0\n",
              "4  1995-01-10.10.0  ...  38.0\n",
              "\n",
              "[5 rows x 11 columns]"
            ]
          },
          "metadata": {
            "tags": []
          },
          "execution_count": 5
        }
      ]
    },
    {
      "cell_type": "code",
      "metadata": {
        "id": "bX0bxDpN7y9q",
        "colab_type": "code",
        "outputId": "4ffaea2f-ec54-433e-a486-1149d0d204ff",
        "colab": {
          "base_uri": "https://localhost:8080/",
          "height": 283
        }
      },
      "source": [
        "hansard.info()"
      ],
      "execution_count": 0,
      "outputs": [
        {
          "output_type": "stream",
          "text": [
            "<class 'pandas.core.frame.DataFrame'>\n",
            "RangeIndex: 1380017 entries, 0 to 1380016\n",
            "Data columns (total 11 columns):\n",
            "pp_id          1380017 non-null object\n",
            "speech         1380014 non-null object\n",
            "year           1380017 non-null int64\n",
            "as_speaker     1380017 non-null bool\n",
            "proper_name    1380017 non-null object\n",
            "word_count     1304511 non-null float64\n",
            "gender         1380017 non-null object\n",
            "party          1380017 non-null object\n",
            "party_group    1304511 non-null object\n",
            "government     1300361 non-null object\n",
            "age            1300318 non-null float64\n",
            "dtypes: bool(1), float64(2), int64(1), object(7)\n",
            "memory usage: 106.6+ MB\n"
          ],
          "name": "stdout"
        }
      ]
    },
    {
      "cell_type": "markdown",
      "metadata": {
        "id": "sG4BidsbKV3V",
        "colab_type": "text"
      },
      "source": [
        "**Task to be completed :-**\n",
        "1. Assign Speech to a Party Group (Mutli-class classification)\n",
        "2. Identify sentiment in a speech (in favour/against)\n",
        "3. Topic Modelling\n",
        "4. Speech Generation"
      ]
    },
    {
      "cell_type": "markdown",
      "metadata": {
        "id": "LddF7a9O9Cpy",
        "colab_type": "text"
      },
      "source": [
        "The 'Party_Group' class column contains some NULL entries as seen from the 'hansard.info()' call. We will drop the rows with null entries as the splitting function requires non-null column. We can also impute the entries based on the information from 'Party' coulmn but we will not do it for now. Let's drop the NULL entries from Speech and Party_Group columns"
      ]
    },
    {
      "cell_type": "code",
      "metadata": {
        "id": "NSDzsDoA9Emw",
        "colab_type": "code",
        "outputId": "bff3bb55-3522-48e0-ceb2-ae9457645842",
        "colab": {
          "base_uri": "https://localhost:8080/",
          "height": 33
        }
      },
      "source": [
        "hansard = hansard.dropna(subset=['speech', 'party_group'])\n",
        "hansard.shape"
      ],
      "execution_count": 0,
      "outputs": [
        {
          "output_type": "execute_result",
          "data": {
            "text/plain": [
              "(1304511, 11)"
            ]
          },
          "metadata": {
            "tags": []
          },
          "execution_count": 8
        }
      ]
    },
    {
      "cell_type": "code",
      "metadata": {
        "id": "byL3wSMBEsaP",
        "colab_type": "code",
        "outputId": "130281aa-8142-45aa-bb11-bb71b07fd784",
        "colab": {
          "base_uri": "https://localhost:8080/",
          "height": 117
        }
      },
      "source": [
        "# We have 5 Party_Groups. ** verify if balancing of classes is needed in this case\n",
        "\n",
        "hansard['party_group'].value_counts() / len(hansard)"
      ],
      "execution_count": 0,
      "outputs": [
        {
          "output_type": "execute_result",
          "data": {
            "text/plain": [
              "Labour              0.424828\n",
              "Conservative        0.414913\n",
              "Liberal Democrat    0.075994\n",
              "Other               0.065620\n",
              "SNP                 0.018645\n",
              "Name: party_group, dtype: float64"
            ]
          },
          "metadata": {
            "tags": []
          },
          "execution_count": 9
        }
      ]
    },
    {
      "cell_type": "markdown",
      "metadata": {
        "id": "qM40VN4V148W",
        "colab_type": "text"
      },
      "source": [
        "Let us split the data into train, validation and test sets.\n",
        "We will use Stratified Sampling from sklearn for splitting the data. Stratified Sampling ensures that we maintain the same ratio of classes in the test data as the training set. This helps in avoiding any sampling bias."
      ]
    },
    {
      "cell_type": "code",
      "metadata": {
        "id": "0NifMCLq48hX",
        "colab_type": "code",
        "colab": {}
      },
      "source": [
        "from sklearn.model_selection import StratifiedShuffleSplit\n",
        "\n",
        "# Split data into 10% test and 90% train set\n",
        "\n",
        "split = StratifiedShuffleSplit(n_splits=1, test_size=0.1, random_state=42)\n",
        "for train_index, test_index in split.split(hansard, hansard['party_group']):\n",
        "  train_data = hansard.loc[train_index]\n",
        "  hansard_test = hansard.loc[test_index]"
      ],
      "execution_count": 0,
      "outputs": []
    },
    {
      "cell_type": "code",
      "metadata": {
        "id": "FEFCYzgzENXg",
        "colab_type": "code",
        "outputId": "cfe703fd-038c-4f77-f2ff-da6c4954e2d7",
        "colab": {
          "base_uri": "https://localhost:8080/",
          "height": 267
        }
      },
      "source": [
        "print('Party_Group distribution in training set: ')\n",
        "print(train_data['party_group'].value_counts() / len(hansard))\n",
        "print('\\nParty_Group distribution in test set: ')\n",
        "print(hansard_test['party_group'].value_counts() / len(hansard))"
      ],
      "execution_count": 0,
      "outputs": [
        {
          "output_type": "stream",
          "text": [
            "Party_Group distribution in training set: \n",
            "Labour              0.382345\n",
            "Conservative        0.373421\n",
            "Liberal Democrat    0.068394\n",
            "Other               0.059058\n",
            "SNP                 0.016781\n",
            "Name: party_group, dtype: float64\n",
            "\n",
            "Party_Group distribution in test set: \n",
            "Labour              0.042483\n",
            "Conservative        0.041491\n",
            "Liberal Democrat    0.007600\n",
            "Other               0.006562\n",
            "SNP                 0.001864\n",
            "Name: party_group, dtype: float64\n"
          ],
          "name": "stdout"
        }
      ]
    },
    {
      "cell_type": "code",
      "metadata": {
        "id": "dXKvGIl6BKzs",
        "colab_type": "code",
        "colab": {}
      },
      "source": [
        "# Split training data into 20% validation and 80% train set\n",
        "\n",
        "split = StratifiedShuffleSplit(n_splits=1, test_size=0.2, random_state=43)\n",
        "for training_index, val_index in split.split(train_data, train_data['party_group']):\n",
        "  hansard_train = train_data.loc[training_index]\n",
        "  hansard_val = train_data.loc[val_index]"
      ],
      "execution_count": 0,
      "outputs": []
    },
    {
      "cell_type": "code",
      "metadata": {
        "id": "6MDFPVAP_FDd",
        "colab_type": "code",
        "outputId": "9c39e146-faf9-4021-cd22-1910004e8aaf",
        "colab": {
          "base_uri": "https://localhost:8080/",
          "height": 400
        }
      },
      "source": [
        "print('Party_Group distribution in training set: ')\n",
        "print(hansard_train['party_group'].value_counts() / len(hansard_train))\n",
        "print('\\nParty_Group distribution in validation set: ')\n",
        "print(hansard_val['party_group'].value_counts() / len(hansard_val))\n",
        "print('\\nParty_Group distribution in test set: ')\n",
        "print(hansard_test['party_group'].value_counts() / len(hansard_test))"
      ],
      "execution_count": 0,
      "outputs": [
        {
          "output_type": "stream",
          "text": [
            "Party_Group distribution in training set: \n",
            "Labour              0.400061\n",
            "Conservative        0.353652\n",
            "Liberal Democrat    0.074318\n",
            "Other               0.060898\n",
            "SNP                 0.011064\n",
            "Name: party_group, dtype: float64\n",
            "\n",
            "Party_Group distribution in validation set: \n",
            "Labour              0.399396\n",
            "Conservative        0.352465\n",
            "Liberal Democrat    0.074647\n",
            "Other               0.061922\n",
            "SNP                 0.011401\n",
            "Name: party_group, dtype: float64\n",
            "\n",
            "Party_Group distribution in test set: \n",
            "Labour              0.424831\n",
            "Conservative        0.414911\n",
            "Liberal Democrat    0.075997\n",
            "Other               0.065618\n",
            "SNP                 0.018643\n",
            "Name: party_group, dtype: float64\n"
          ],
          "name": "stdout"
        }
      ]
    },
    {
      "cell_type": "markdown",
      "metadata": {
        "id": "FBOFYnNMGuhf",
        "colab_type": "text"
      },
      "source": [
        "We can see that the datasets have a similar distribution of the class variable\n"
      ]
    },
    {
      "cell_type": "code",
      "metadata": {
        "id": "7L4Out8MGbPg",
        "colab_type": "code",
        "colab": {}
      },
      "source": [
        "# written the datasets to a file and deleted the variables to save memory. Now we will only work on the train data\n",
        "#del hansard\n",
        "hansard_test.to_csv('hansard_test.csv')\n",
        "hansard_val.to_csv('hansard_val.csv')\n",
        "hansard_train.to_csv('hansard_train.csv')"
      ],
      "execution_count": 0,
      "outputs": []
    },
    {
      "cell_type": "code",
      "metadata": {
        "id": "o1D0Nt0kHVej",
        "colab_type": "code",
        "colab": {}
      },
      "source": [
        "del hansard_test\n",
        "del hansard_val"
      ],
      "execution_count": 0,
      "outputs": []
    },
    {
      "cell_type": "code",
      "metadata": {
        "id": "Afu4hTvYO_px",
        "colab_type": "code",
        "colab": {}
      },
      "source": [
        "hansard_train = pd.read_csv('/content/gdrive/My Drive/hansard_train.csv')"
      ],
      "execution_count": 0,
      "outputs": []
    },
    {
      "cell_type": "markdown",
      "metadata": {
        "id": "ZZmS-cFmuUyl",
        "colab_type": "text"
      },
      "source": [
        "We will use the 'Speech' column to build feature vectors for classification. But first let us clean the text. We will\n",
        "1.  Remove stopwords and do stemming using nltk\n",
        "2.  Use Tokenizer API to remove punctuation and lowercase words. It will tokenize the words. We will also introduce an out-of-vocabulary token to account for unseen words in the test data\n",
        "\n",
        "We will create a new column 'clean_speech' and append to the training data. The original column will not be removed because we may need to perform different pre-processing on the text depending on the task, example for Speech Generation, we need to keep the stopwords or punctuation as it is necessary for generating meaningful sentences."
      ]
    },
    {
      "cell_type": "code",
      "metadata": {
        "id": "Rf19aZ8Z8d63",
        "colab_type": "code",
        "colab": {}
      },
      "source": [
        "hansard_train = hansard_train.dropna()"
      ],
      "execution_count": 0,
      "outputs": []
    },
    {
      "cell_type": "code",
      "metadata": {
        "id": "3wWaKkos-izy",
        "colab_type": "code",
        "outputId": "eb3f7317-53d2-4eb1-d545-42625ff76d91",
        "colab": {
          "base_uri": "https://localhost:8080/",
          "height": 33
        }
      },
      "source": [
        "hansard_train.shape"
      ],
      "execution_count": 0,
      "outputs": [
        {
          "output_type": "execute_result",
          "data": {
            "text/plain": [
              "(845316, 12)"
            ]
          },
          "metadata": {
            "tags": []
          },
          "execution_count": 18
        }
      ]
    },
    {
      "cell_type": "code",
      "metadata": {
        "id": "LC7MhQuZu2Cl",
        "colab_type": "code",
        "colab": {}
      },
      "source": [
        "from sklearn.feature_extraction import text\n",
        "from nltk.stem.porter import * \n",
        "import re\n",
        "\n",
        "stopword = text.ENGLISH_STOP_WORDS\n",
        "stemmer = PorterStemmer()\n",
        "\n",
        "# remove stopwords and stem the words\n",
        "hansard_train['clean_speech'] = hansard_train['speech'].str.replace(r'\\b(' + r'|'.join(stopword) + r')\\b\\s*', '')\n",
        "hansard_train['clean_speech'] = hansard_train['speech'].apply(lambda x: ' '.join([stemmer.stem(word) for word in x.split()]))"
      ],
      "execution_count": 0,
      "outputs": []
    },
    {
      "cell_type": "code",
      "metadata": {
        "id": "BM4ppaUWM83X",
        "colab_type": "code",
        "outputId": "8d36b182-0bef-4b13-a86f-08fdd11abdcd",
        "colab": {
          "base_uri": "https://localhost:8080/",
          "height": 297
        }
      },
      "source": [
        "hansard_train.head()"
      ],
      "execution_count": 0,
      "outputs": [
        {
          "output_type": "execute_result",
          "data": {
            "text/html": [
              "<div>\n",
              "<style scoped>\n",
              "    .dataframe tbody tr th:only-of-type {\n",
              "        vertical-align: middle;\n",
              "    }\n",
              "\n",
              "    .dataframe tbody tr th {\n",
              "        vertical-align: top;\n",
              "    }\n",
              "\n",
              "    .dataframe thead th {\n",
              "        text-align: right;\n",
              "    }\n",
              "</style>\n",
              "<table border=\"1\" class=\"dataframe\">\n",
              "  <thead>\n",
              "    <tr style=\"text-align: right;\">\n",
              "      <th></th>\n",
              "      <th>Unnamed: 0</th>\n",
              "      <th>pp_id</th>\n",
              "      <th>speech</th>\n",
              "      <th>year</th>\n",
              "      <th>as_speaker</th>\n",
              "      <th>proper_name</th>\n",
              "      <th>word_count</th>\n",
              "      <th>gender</th>\n",
              "      <th>party</th>\n",
              "      <th>party_group</th>\n",
              "      <th>government</th>\n",
              "      <th>age</th>\n",
              "      <th>clean_speech</th>\n",
              "    </tr>\n",
              "  </thead>\n",
              "  <tbody>\n",
              "    <tr>\n",
              "      <th>0</th>\n",
              "      <td>570445</td>\n",
              "      <td>2005-11-21.1233.1</td>\n",
              "      <td>May I put it to my hon. Friend that he ought v...</td>\n",
              "      <td>2005.0</td>\n",
              "      <td>False</td>\n",
              "      <td>John Bercow</td>\n",
              "      <td>186.0</td>\n",
              "      <td>Male</td>\n",
              "      <td>Conservative</td>\n",
              "      <td>Conservative</td>\n",
              "      <td>False</td>\n",
              "      <td>42.0</td>\n",
              "      <td>may I put it to my hon. friend that he ought v...</td>\n",
              "    </tr>\n",
              "    <tr>\n",
              "      <th>1</th>\n",
              "      <td>257741</td>\n",
              "      <td>1999-11-03.391.2</td>\n",
              "      <td>There might be a slight saving in the DSS pens...</td>\n",
              "      <td>1999.0</td>\n",
              "      <td>False</td>\n",
              "      <td>Harry Barnes</td>\n",
              "      <td>51.0</td>\n",
              "      <td>Male</td>\n",
              "      <td>Labour</td>\n",
              "      <td>Labour</td>\n",
              "      <td>True</td>\n",
              "      <td>63.0</td>\n",
              "      <td>there might be a slight save in the dss pensio...</td>\n",
              "    </tr>\n",
              "    <tr>\n",
              "      <th>2</th>\n",
              "      <td>812564</td>\n",
              "      <td>2010-06-03.613.2</td>\n",
              "      <td>c \"Thank you, Mr Deputy Speaker. It is unusual...</td>\n",
              "      <td>2010.0</td>\n",
              "      <td>False</td>\n",
              "      <td>David Miliband</td>\n",
              "      <td>1395.0</td>\n",
              "      <td>Male</td>\n",
              "      <td>Labour</td>\n",
              "      <td>Labour</td>\n",
              "      <td>False</td>\n",
              "      <td>44.0</td>\n",
              "      <td>c \"thank you, Mr deputi speaker. It is unusu i...</td>\n",
              "    </tr>\n",
              "    <tr>\n",
              "      <th>4</th>\n",
              "      <td>1033291</td>\n",
              "      <td>2013-09-10.848.4</td>\n",
              "      <td>c \"One pressure that applies equally in Wales ...</td>\n",
              "      <td>2013.0</td>\n",
              "      <td>False</td>\n",
              "      <td>Chris Bryant</td>\n",
              "      <td>234.0</td>\n",
              "      <td>Male</td>\n",
              "      <td>Labour</td>\n",
              "      <td>Labour</td>\n",
              "      <td>False</td>\n",
              "      <td>51.0</td>\n",
              "      <td>c \"one pressur that appli equal in wale and in...</td>\n",
              "    </tr>\n",
              "    <tr>\n",
              "      <th>5</th>\n",
              "      <td>955066</td>\n",
              "      <td>2012-06-18.701.1</td>\n",
              "      <td>It is slightly disingenuous of the hon. Gentle...</td>\n",
              "      <td>2012.0</td>\n",
              "      <td>False</td>\n",
              "      <td>Tom Harris</td>\n",
              "      <td>144.0</td>\n",
              "      <td>Male</td>\n",
              "      <td>Labour</td>\n",
              "      <td>Labour</td>\n",
              "      <td>False</td>\n",
              "      <td>48.0</td>\n",
              "      <td>It is slightli disingenu of the hon. gentleman...</td>\n",
              "    </tr>\n",
              "  </tbody>\n",
              "</table>\n",
              "</div>"
            ],
            "text/plain": [
              "   Unnamed: 0  ...                                       clean_speech\n",
              "0      570445  ...  may I put it to my hon. friend that he ought v...\n",
              "1      257741  ...  there might be a slight save in the dss pensio...\n",
              "2      812564  ...  c \"thank you, Mr deputi speaker. It is unusu i...\n",
              "4     1033291  ...  c \"one pressur that appli equal in wale and in...\n",
              "5      955066  ...  It is slightli disingenu of the hon. gentleman...\n",
              "\n",
              "[5 rows x 13 columns]"
            ]
          },
          "metadata": {
            "tags": []
          },
          "execution_count": 21
        }
      ]
    },
    {
      "cell_type": "markdown",
      "metadata": {
        "id": "es5b7OwFFL_3",
        "colab_type": "text"
      },
      "source": [
        "Let us visualize the most frequent words used in the speeches for different party_groups using a Wordcloud"
      ]
    },
    {
      "cell_type": "code",
      "metadata": {
        "id": "mt6msKmYE7Uf",
        "colab_type": "code",
        "colab": {}
      },
      "source": [
        "from wordcloud import WordCloud\n",
        "\n",
        "def create_wordcloud(partyname):\n",
        "  # combine all the tweets and build a wordCloud for 'Labour' party\n",
        "  text = ' '.join([sent for sent in hansard_train['clean_speech'][hansard_train['party_group'] == partyname]])\n",
        "  wordcloud = WordCloud(width=400, height=300, random_state=21, max_font_size=110).generate(text)\n",
        "  plt.figure(figsize=(10, 7)) \n",
        "  plt.imshow(wordcloud, interpolation=\"bilinear\") \n",
        "  plt.axis('off')\n",
        "\n",
        "from wordcloud import WordCloud\n",
        "from collections import Counter\n",
        "\n",
        "wc = WordCloud()\n",
        "\n",
        "counts_all = Counter()\n",
        "\n",
        "with open('path/to/file.txt', 'r') as f:\n",
        "    for line in f:  # Here you can also use the Cursor\n",
        "        counts_line = wc.process_text(line)\n",
        "        counts_all.update(counts_line)\n",
        "\n",
        "wc.generate_from_frequencies(counts_all)\n",
        "wc.to_file('/tmp/wc.png')"
      ],
      "execution_count": 0,
      "outputs": []
    },
    {
      "cell_type": "code",
      "metadata": {
        "id": "_z1o8nFbF8ih",
        "colab_type": "code",
        "colab": {}
      },
      "source": [
        "create_wordcloud('Labour')"
      ],
      "execution_count": 0,
      "outputs": []
    },
    {
      "cell_type": "code",
      "metadata": {
        "id": "y-llAgTnF82L",
        "colab_type": "code",
        "colab": {}
      },
      "source": [
        "create_wordcloud('Conservative')"
      ],
      "execution_count": 0,
      "outputs": []
    },
    {
      "cell_type": "code",
      "metadata": {
        "id": "YP0YHMznGQDm",
        "colab_type": "code",
        "colab": {}
      },
      "source": [
        "create_wordcloud('Liberal Democrat')"
      ],
      "execution_count": 0,
      "outputs": []
    },
    {
      "cell_type": "code",
      "metadata": {
        "id": "Hn_-JhQHGQUW",
        "colab_type": "code",
        "colab": {}
      },
      "source": [
        "create_wordcloud('Other')"
      ],
      "execution_count": 0,
      "outputs": []
    },
    {
      "cell_type": "code",
      "metadata": {
        "id": "6Tfl5bo4GQO4",
        "colab_type": "code",
        "colab": {}
      },
      "source": [
        "create_wordcloud('SNP')"
      ],
      "execution_count": 0,
      "outputs": []
    },
    {
      "cell_type": "code",
      "metadata": {
        "id": "Z7B2rQfGLJT4",
        "colab_type": "code",
        "colab": {}
      },
      "source": [
        ""
      ],
      "execution_count": 0,
      "outputs": []
    }
  ]
}